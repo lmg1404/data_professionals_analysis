{
 "cells": [
  {
   "cell_type": "markdown",
   "id": "460bcd30-1c2e-4756-ba10-bfe0a0747233",
   "metadata": {},
   "source": [
    "## Imports"
   ]
  },
  {
   "cell_type": "code",
   "execution_count": 1,
   "id": "0863b356-bcad-4fb1-8b8a-eb91a6016e2a",
   "metadata": {},
   "outputs": [],
   "source": [
    "import pandas as pd\n",
    "import numpy as np\n",
    "import os\n",
    "import matplotlib.pyplot as plt\n",
    "import pycountry\n",
    "from sklearn.preprocessing import MultiLabelBinarizer, LabelBinarizer\n",
    "import pingouin as pg\n",
    "import numpy as np\n",
    "import seaborn as sns\n",
    "import scipy\n",
    "import warnings\n",
    "\n",
    "warnings.filterwarnings('ignore')\n",
    "pd.set_option('display.max_columns', 500)\n",
    "pd.options.display.float_format = '{:.0f}'.format\n",
    "np.random.seed(42)"
   ]
  },
  {
   "cell_type": "markdown",
   "id": "c99d2e08-d067-414d-bf79-44143c6c6191",
   "metadata": {
    "jp-MarkdownHeadingCollapsed": true
   },
   "source": [
    "## Functions"
   ]
  },
  {
   "cell_type": "code",
   "execution_count": 2,
   "id": "108206fc-d649-4506-8234-c0f970171086",
   "metadata": {},
   "outputs": [],
   "source": [
    "def read_ppp() -> pd.DataFrame:\n",
    "    \"\"\"\n",
    "    Reads PPP csv and returns resulting data frame\n",
    "    Data Manipulations:\n",
    "    - Only use years since we're not going to use anything before unless we go historic route\n",
    "    - Fill nans with string type Null\n",
    "    - - thought process is to us other functions that will detect str type and throw an error\n",
    "    - - if nan operation will probably go through, so doing isinstance == str would be best probably\n",
    "    - Also index columns are the country code, should match to the PyCountry library\n",
    "    \n",
    "    Inputs: None\n",
    "    Output: pd.DataFrame\n",
    "    \"\"\"\n",
    "    years = [\"2019\", \"2020\", \"2021\", \"2022\"]\n",
    "    ppp = pd.read_csv(\"data/ppp.csv\", header=2, index_col=\"Country Code\")[years]\n",
    "    # ppp = ppp.fillna(\"Null\") # this way we can control the type, so we can create a function that checks type before anything else\n",
    "    return ppp"
   ]
  },
  {
   "cell_type": "code",
   "execution_count": 3,
   "id": "b67c2165-6e83-49e2-9d9c-a16a05e99987",
   "metadata": {},
   "outputs": [],
   "source": [
    "def walrus_helper(salaries: pd.DataFrame) -> dict:\n",
    "    \"\"\"\n",
    "    Helper function that is just a for loop that goes through unique job titles and assigns a basic name\n",
    "\n",
    "    Input: pd.DataFrame\n",
    "    Output: dict{str: str}\n",
    "    \"\"\"\n",
    "    mapping = {}\n",
    "    for job in list(salaries[\"job_title\"].unique()):\n",
    "        if (short := \"Analyst\") in job:\n",
    "            mapping[job] = short.lower()\n",
    "    \n",
    "        elif (short := \"Engineer\") in job:\n",
    "            mapping[job] = short.lower() + \"_other\"\n",
    "            \n",
    "        elif (short := \"Data Scientist\") in job or \"Data Science\" in job:\n",
    "                mapping[job] = '_'.join(short.lower().split(\" \"))\n",
    "            \n",
    "        elif \"Architect\" in job:\n",
    "            mapping[job] = \"systems_architect\"\n",
    "    \n",
    "        elif \"Manager\" in job:\n",
    "            mapping[job] = \"management\"\n",
    "    \n",
    "        elif (short := \"Developer\") in job:\n",
    "            mapping[job] = short.lower()\n",
    "            \n",
    "        elif \"math\" in job.lower() or \"stat\" in job.lower():\n",
    "            mapping[job] = \"mathematician_statistician\"\n",
    "            \n",
    "        else:\n",
    "            mapping[job] = \"scientist_other\"\n",
    "    return mapping"
   ]
  },
  {
   "cell_type": "code",
   "execution_count": 4,
   "id": "575b5e8d-2564-4f3d-9104-dbf8f747fe7d",
   "metadata": {},
   "outputs": [],
   "source": [
    "def read_salaries() -> pd.DataFrame:\n",
    "    \"\"\"\n",
    "    Reads the salaries from ai-net and returns them into a dataframe\n",
    "    Data Manipulation:\n",
    "    - Change 2 letter country names into 3 letter names for uniformity\n",
    "    - Map above function in job_title to simpler names\n",
    "    - Only taking 2020 - 2023, we have no data on 2024\n",
    "    \n",
    "    Input: None\n",
    "    Output: pd.DataFrame\n",
    "    \"\"\"\n",
    "    salaries = pd.read_csv(\"data/ai-jobs_salaries.csv\")\n",
    "    country_abbreviations = {country.alpha_2: country.alpha_3 for country in pycountry.countries}\n",
    "    mapping = walrus_helper(salaries)\n",
    "    \n",
    "    salaries[[\"employee_residence\", \"company_location\"]] = salaries[[\"employee_residence\", \"company_location\"]].replace(country_abbreviations)\n",
    "    salaries[\"job_title\"] = salaries[\"job_title\"].replace(mapping)\n",
    "    salaries = salaries[salaries[\"work_year\"] < 2024]\n",
    "    \n",
    "    return salaries"
   ]
  },
  {
   "cell_type": "code",
   "execution_count": 5,
   "id": "59d37b96-23a6-45d2-a40f-0813123c1395",
   "metadata": {},
   "outputs": [],
   "source": [
    "def create_onehot_skills(frames: dict) -> None:\n",
    "    \"\"\"\n",
    "    Given a dictionary of pandas dataframes we want to one hot the skills in particular.\n",
    "    We want to take the skills in the different columns and one hot them such we can sum them for groupby operations.\n",
    "    We get a dictionary of pandas DataFrames and perform an inplace operation such that we don't have to create new memory.\n",
    "    Return a dictionary of a list of strings for a couple reasons:\n",
    "        - there's no way we will remember all of these so automation by putting these into a list seemed like the best idea\n",
    "        - the keys will match those in the input in case we want to do something with these later per year\n",
    "        - hashing onto a dictionary should allow for ease of access since no 2 years will have the same EXACT one hot columns, hence the list\n",
    "    The above is deprecated, after merging with similar columns these will all be useless to us\n",
    "\n",
    "    We also drop the _Empty for EVERYTHING since that information is useless to us\n",
    "    \n",
    "    Input: frames dict{str: pd.DataFrames}\n",
    "    Ouput: None\n",
    "\n",
    "    https://stackoverflow.com/questions/45312377/how-to-one-hot-encode-from-a-pandas-column-containing-a-list\n",
    "\n",
    "    Rough example flow of function for one sample:\n",
    "    C; C++; Perl -> [C, C++, Perl] -> [1, 1, 1, 0]\n",
    "    Python       -> [Python]       -> [0, 0, 0, 1]\n",
    "    \"\"\"\n",
    "    # some constants\n",
    "    standard = [(\"language\", \"lg\"), (\"database\", \"db\"), (\"platform\", \"pf\"), (\"webframe\", \"wf\"), (\"misctech\", \"mt\")]\n",
    "    status = [(\"wanttoworkwith\", \"www\"), (\"haveworkedwith\", \"hww\")]\n",
    "    \n",
    "    for key, frame in frames.items():\n",
    "        new_cols = []\n",
    "        for stan, abv in standard:\n",
    "            for stat, abr in status:\n",
    "                coi = stan + stat # coi = column of interest\n",
    "                abbr = abv + abr + \"_\"\n",
    "                mlb = MultiLabelBinarizer(sparse_output=True) # saves ram\n",
    "                frame[coi] = frame[coi].str.split(\";\")\n",
    "                transformed = mlb.fit_transform(frame.pop(coi))\n",
    "                new_cois = [abbr + name for name in mlb.classes_]\n",
    "                frame = frame.join(\n",
    "                            pd.DataFrame.sparse.from_spmatrix(\n",
    "                                transformed,\n",
    "                                index=frame.index,\n",
    "                                columns=new_cois\n",
    "                            )\n",
    "                        )\n",
    "                new_cois.remove(abbr + \"Empty\")\n",
    "                new_cols += new_cois\n",
    "                frame = frame.drop(abbr + \"Empty\", axis=1)\n",
    "        # this needs to be here, if not throse Sparse type errors\n",
    "        # # Sparse types don't allow normal groupby operations (ie reshape) so we need to turn them into ints\n",
    "        # # int8 don't take up a ton and it's just 0's and 1's\n",
    "        # # for all intents and purposes these are sparse matrices, we just want to avoid the object\n",
    "        frame[new_cols] = frame[new_cols].fillna(0)\n",
    "        frame[new_cols] = frame[new_cols].astype('int8')\n",
    "        frames[key] = frame"
   ]
  },
  {
   "cell_type": "code",
   "execution_count": 6,
   "id": "137e10a2-2a22-44b4-a8e5-187adf8ff078",
   "metadata": {},
   "outputs": [],
   "source": [
    "def abbr_education(frames: dict) -> None:\n",
    "    \"\"\"\n",
    "    Similar in spirit to the other one hots, but this is in place\n",
    "    Automatically abbreviates education levels across all frames\n",
    "    Had to hard code the list again, not a big deal only 8 items\n",
    "    \n",
    "    Input: frames dict{str: pd.DataFrames}\n",
    "    Ouput: None\n",
    "    \"\"\"\n",
    "    # more hardcoded stuff that are needed\n",
    "    abbreviations = [\"Associate's\", \"Bachelor's\", \"Master's\", \"Elementary\", \"Professional\", \"Secondary\", \"Some College\", \"Else\"]\n",
    "    \n",
    "    for key, frame in frames.items():\n",
    "        # easier to replace this, makes it much easier to work with\n",
    "        frame['edlevel'] = frame['edlevel'].replace({'I never completed any formal education': 'Something else'})\n",
    "\n",
    "        # need the sorted since they have the same rough scheme\n",
    "        levels = list(frame['edlevel'].unique())\n",
    "        levels.sort()\n",
    "        o = 0 # offset\n",
    "\n",
    "        # dictionary to feed into repalce function\n",
    "        replace_dict = {}\n",
    "        for i in range(len(levels)):\n",
    "            col = levels[i]\n",
    "            if col == 'nan':\n",
    "                break\n",
    "            abbr = abbreviations[i-o]\n",
    "            if 'doctoral' in col:\n",
    "                replace_dict[col] = \"Doctoral\"\n",
    "                o += 1\n",
    "                continue\n",
    "            replace_dict[col] = abbr\n",
    "                \n",
    "        frame['edlevel'] = frame['edlevel'].replace(replace_dict)\n",
    "        frames[key] = frame"
   ]
  },
  {
   "cell_type": "code",
   "execution_count": 7,
   "id": "a2373aff-0984-49bf-95b6-58b161e4b66a",
   "metadata": {},
   "outputs": [],
   "source": [
    "def bin_ages(frames: dict) -> None:\n",
    "    \"\"\"\n",
    "    Bin ages so that they match with the later year surveys\n",
    "    \"\"\"\n",
    "    bins = [0, 18, 24, 34, 44, 54, 64, 100]\n",
    "    labels = ['Under 18 years old', '18-24 years old', '25-34 years old', '35-44 years old', '45-54 years old', '55-64 years old', '65 years or older']\n",
    "    for year, frame in frames.items():    \n",
    "        if frame[\"age\"].dtypes == float:\n",
    "            frame[\"age\"] = pd.cut(frame[\"age\"], bins=bins, labels=labels)\n",
    "        frame[\"age\"] = frame[\"age\"].astype('str')\n",
    "        \n",
    "        frames[year] = frame"
   ]
  },
  {
   "cell_type": "code",
   "execution_count": 8,
   "id": "e779fe3c-7fb7-4057-a527-4412508de3e3",
   "metadata": {},
   "outputs": [],
   "source": [
    "def find_similar_col(frames) -> list:\n",
    "    \"\"\"\n",
    "    Returns the set of columns that the all share, ideally we maximize the ratio of this to merge.\n",
    "    \"\"\"\n",
    "    union = []\n",
    "    for key, frame in frames.items():\n",
    "        union.append(set(frame.columns))\n",
    "        \n",
    "    standard = union[0]\n",
    "    for cols in union[1:]:\n",
    "        standard = standard.intersection(cols)\n",
    "    return list(standard)"
   ]
  },
  {
   "cell_type": "code",
   "execution_count": 9,
   "id": "49623a29-5d7b-4b33-b3e6-419a8a05cf43",
   "metadata": {},
   "outputs": [],
   "source": [
    "def encode_devtype(df: pd.DataFrame) -> (pd.DataFrame, list):\n",
    "    \"\"\"\n",
    "    Standardizing DevType so that we can merge on ai-net data\n",
    "    \"\"\"\n",
    "    def map_job(category_list) -> list:\n",
    "        devtype = set()\n",
    "        for category in category_list:\n",
    "            if (clean := \"data scientist\") in category.lower():\n",
    "                devtype.add(clean)\n",
    "            elif \"math\" in category.lower() or \"stat\" in category.lower():\n",
    "                devtype.add(\"mathematician_statistician\")\n",
    "            elif (clean := \"analyst\") in category.lower():\n",
    "                devtype.add(clean)\n",
    "            elif (clean := \"manage\") in category.lower():\n",
    "                devtype.add(clean + \"ment\")\n",
    "            elif (clean := \"scientist\") in category.lower():\n",
    "                devtype.add(clean + \"_other\")\n",
    "            elif (clean := \"engineer\") in category.lower():\n",
    "                devtype.add(clean + \"_other\")\n",
    "            elif (clean := \"developer\") in category.lower():\n",
    "                devtype.add(clean)\n",
    "            else:\n",
    "                devtype.add(\"systems_architect\")\n",
    "        return list(devtype)\n",
    "        \n",
    "    coi = \"devtype\"\n",
    "    mlb = MultiLabelBinarizer(sparse_output=True) # saves ram\n",
    "    df[coi] = df[coi].str.split(\";\")\n",
    "    df[coi] = df[coi].apply(map_job)\n",
    "    transformed = mlb.fit_transform(df.pop(coi))\n",
    "    new_cols = mlb.classes_\n",
    "    df = df.join(\n",
    "                pd.DataFrame.sparse.from_spmatrix(\n",
    "                    transformed,\n",
    "                    index=df.index,\n",
    "                    columns=mlb.classes_\n",
    "                )\n",
    "            )\n",
    "    # see above binarizer\n",
    "    df[new_cols] = df[new_cols].fillna(0)\n",
    "    df[new_cols] = df[new_cols].astype('int8')\n",
    "    return df, new_cols"
   ]
  },
  {
   "cell_type": "code",
   "execution_count": 10,
   "id": "c0bff165-ea33-45a6-a11b-6202f82e75a4",
   "metadata": {},
   "outputs": [],
   "source": [
    "def read_stackoverflow() -> (pd.DataFrame, list, list):\n",
    "    \"\"\"\n",
    "    Reads CSVs and gets the numbe of data professionals. Any empty values are dropped from job title and \n",
    "    salary so we will always have data. Other columns may have nans.\n",
    "    Data Manipulation:\n",
    "    - dropping nans from salary and devtype combined\n",
    "    - Changing the salary column to ConvertedCompYearly so we can merge all data frames comes time\n",
    "    - Lowering column names since there was some weird camel case going on\n",
    "    - Converting specific columns that mean the same thing per year into a singular name\n",
    "    - Fill in nans for language/skill specific values with \"nan\"\n",
    "      - this is so we can one hot later on for a more concise analysis, more later on\n",
    "    - Binarize the different skills per year, see create_onehot_skills\n",
    "    - Next we abbreviate education levels so that we can also one hot them, see above\n",
    "    - Change education to keep into one column binarizing doesn't make any sense\n",
    "    - Changing org size into something much more manageable, mainly the I don't know field\n",
    "    - We merge them into one, the same groupby operations can still be done as if seperate\n",
    "    - Encode devtype to binarize as well since it's very difficult to parse through ; every single time\n",
    "        - we can do some clever work arounds\n",
    "    - Lastly we return the skills columns really quick to save headache later on\n",
    "\n",
    "    Inputs: Nothing\n",
    "    Outputs: tuple(pd.DataFrame, list[str], list[str])\n",
    "    \"\"\"\n",
    "    country_abbreviations_1 = {country.name: country.alpha_3 for country in pycountry.countries}\n",
    "    country_abbreviations_2 = {country.official_name: country.alpha_3 for country in pycountry.countries}\n",
    "    frames = {}\n",
    "    stack_o_files = os.listdir(\"data/stack_overflow/\")\n",
    "    for file in stack_o_files:\n",
    "        year = file[-8:-4]\n",
    "        df = pd.read_csv(f\"data/stack_overflow/{file}\", encoding='ISO-8859-1')\n",
    "\n",
    "        # standardize compensation columns\n",
    "        if 'ConvertedComp' in df.columns:\n",
    "            df = df.rename(columns={'ConvertedComp': 'ConvertedCompYearly'})\n",
    "\n",
    "        # standardize some columns\n",
    "        # using camel case resulted in errors with webframe where sometimes F was capitalized\n",
    "        standard = [\"language\", \"database\", \"platform\", \"webframe\", \"misctech\"]\n",
    "        df.columns = df.columns.str.lower()\n",
    "        for stan in standard:\n",
    "            if f\"{stan}workedwith\" in df.columns:\n",
    "                df = df.rename(columns={f'{stan}workedwith': f'{stan}haveworkedwith', f'{stan}desirenextyear':f'{stan}wanttoworkwith'})\n",
    "            df[f\"{stan}haveworkedwith\"] = df[f\"{stan}haveworkedwith\"].fillna(value=\"Empty\")\n",
    "            df[f\"{stan}wanttoworkwith\"] = df[f\"{stan}wanttoworkwith\"].fillna(value=\"Empty\")\n",
    "\n",
    "        # standardize some country names, now they should match with Kaggle dataset\n",
    "        df[\"country\"] = df[\"country\"].replace(country_abbreviations_1)\n",
    "        df[\"country\"] = df[\"country\"].replace(country_abbreviations_2)\n",
    "\n",
    "        # we have some numbers so we can't just do entire df\n",
    "        df[['edlevel', 'orgsize']] = df[['edlevel', 'orgsize']].fillna(value=\"nan\")\n",
    "        df['orgsize'] = df['orgsize'].replace({'I donâ\\x80\\x99t know': 'IDK'})\n",
    "        \n",
    "        df = df.dropna(subset=[\"devtype\", \"convertedcompyearly\"])\n",
    "        df = df[df[\"devtype\"].str.contains(\"data\", case=False)]\n",
    "        df[\"count\"] = [1] * len(df) # this is for our groupby so that we can say count > cull when we sum or count\n",
    "        df[\"year\"] = [year] * len(df)\n",
    "        frames[f\"df_data_{year}\"] = df\n",
    "\n",
    "    # oops forgot indentation\n",
    "    abbr_education(frames)\n",
    "    bin_ages(frames)\n",
    "    create_onehot_skills(frames)\n",
    "    similar = find_similar_col(frames)\n",
    "    \n",
    "    # finally going to standardize to merge devtypes\n",
    "    for key, frame in frames.items():\n",
    "        frames[key] = frame[similar]\n",
    "    df = pd.concat([frame for key, frame in frames.items()], axis=0)\n",
    "    df, employment = encode_devtype(df)\n",
    "    skills = [col for col in df.columns if any(substr in col for substr in ['lg', 'db', 'pf', 'wf', 'mt'])]\n",
    "    return df, skills, employment"
   ]
  },
  {
   "cell_type": "code",
   "execution_count": 11,
   "id": "d68e603f-c96d-45e9-bc63-8ffe978b7769",
   "metadata": {},
   "outputs": [],
   "source": [
    "def adjust_usd_to_2023_usd(old_usd: float, year: str) -> float:\n",
    "    \"\"\"\n",
    "    Adjusts an amount of USD from a given year to its equivalent value in\n",
    "    December 2023 USD using the Consumer Price Index (CPI) inflation factor\n",
    "    for the given year. The CPI factors were retrieved from the US Bureau of\n",
    "    Labor Statistics website on February 1, 2024:\n",
    "    https://www.bls.gov/data/inflation_calculator.htm\n",
    "\n",
    "    Parameters:\n",
    "    - old_usd (float): The amount of USD to adjust.\n",
    "    - year (str): The year from which the amount is to be adjusted. Must be\n",
    "      a string representing a year for which the CPI inflation factor is known.\n",
    "\n",
    "    Returns:\n",
    "    - float: The adjusted amount in December 2023 USD.\n",
    "    \"\"\"\n",
    "    cpi_inflation_factors = {\n",
    "        \"2017\": 1.24,\n",
    "        \"2018\": 1.22,\n",
    "        \"2019\": 1.19,\n",
    "        \"2020\": 1.18,\n",
    "        \"2021\": 1.10,\n",
    "        \"2022\": 1.03,\n",
    "        \"2023\": 1.00\n",
    "    }\n",
    "\n",
    "    return old_usd * cpi_inflation_factors[year]"
   ]
  },
  {
   "cell_type": "markdown",
   "id": "10bc89d7-2beb-4326-8870-aef574acf581",
   "metadata": {},
   "source": [
    "## Reading (Run Once)"
   ]
  },
  {
   "cell_type": "code",
   "execution_count": 12,
   "id": "5b951d32-a9c9-4c3b-948a-d344290eccf6",
   "metadata": {},
   "outputs": [],
   "source": [
    "stack_overflow, skills_list, employments = read_stackoverflow()\n",
    "ppp = read_ppp()\n",
    "salaries = read_salaries()"
   ]
  },
  {
   "cell_type": "markdown",
   "id": "27b18fd1-a915-4d36-948a-8562d376e6e5",
   "metadata": {},
   "source": [
    "## Analysis"
   ]
  },
  {
   "cell_type": "code",
   "execution_count": 13,
   "id": "4016b093-f682-4ee0-b17a-bf3ee6fca86a",
   "metadata": {},
   "outputs": [
    {
     "data": {
      "text/plain": [
       "['yearscode',\n",
       " 'mainbranch',\n",
       " 'country',\n",
       " 'yearscodepro',\n",
       " 'surveyease',\n",
       " 'sovisitfreq',\n",
       " 'convertedcompyearly',\n",
       " 'employment',\n",
       " 'socomm',\n",
       " 'sopartfreq',\n",
       " 'soaccount',\n",
       " 'orgsize',\n",
       " 'surveylength',\n",
       " 'age',\n",
       " 'comptotal',\n",
       " 'count',\n",
       " 'year',\n",
       " 'edlevel',\n",
       " 'analyst',\n",
       " 'data scientist',\n",
       " 'developer',\n",
       " 'engineer_other',\n",
       " 'management',\n",
       " 'scientist_other',\n",
       " 'systems_architect']"
      ]
     },
     "execution_count": 13,
     "metadata": {},
     "output_type": "execute_result"
    }
   ],
   "source": [
    "# more workable until we go by skills\n",
    "s_o = stack_overflow.drop(skills_list, axis=1)\n",
    "list(s_o.columns)"
   ]
  },
  {
   "cell_type": "code",
   "execution_count": 14,
   "id": "b90d3082-b2f5-4616-888b-786c942e232f",
   "metadata": {},
   "outputs": [
    {
     "data": {
      "text/plain": [
       "Index(['work_year', 'experience_level', 'employment_type', 'job_title',\n",
       "       'salary', 'salary_currency', 'salary_in_usd', 'employee_residence',\n",
       "       'remote_ratio', 'company_location', 'company_size'],\n",
       "      dtype='object')"
      ]
     },
     "execution_count": 14,
     "metadata": {},
     "output_type": "execute_result"
    }
   ],
   "source": [
    "salaries.columns"
   ]
  },
  {
   "cell_type": "code",
   "execution_count": null,
   "id": "4eb24dce-b10d-43ec-ac8f-b6fe1d025ed3",
   "metadata": {},
   "outputs": [],
   "source": []
  },
  {
   "cell_type": "markdown",
   "id": "39e63c7d-fd26-4ae2-9c2c-cb276dc8b9ad",
   "metadata": {
    "jp-MarkdownHeadingCollapsed": true
   },
   "source": [
    "#### Helper Functions"
   ]
  },
  {
   "cell_type": "code",
   "execution_count": 15,
   "id": "f3e8a60d-0f33-4cd4-ae7c-ad8a8dbdb587",
   "metadata": {},
   "outputs": [],
   "source": [
    "def get_similar_countries(df: pd.DataFrame, want: int = 10) -> list:\n",
    "    \"\"\"\n",
    "    Get the number of countries that we want so we can index for ANOVA\n",
    "    Consistent across the years for a good comparison\n",
    "    \"\"\"\n",
    "    groupped = df.groupby('year')\n",
    "    loc_list = list()\n",
    "    head = 1\n",
    "    \n",
    "    while len(loc_list) < want:\n",
    "        loc_set = set()\n",
    "        for year, frame in groupped:\n",
    "            grouped = frame.groupby(\"country\").size().sort_values(ascending=False)\n",
    "            if not loc_set:\n",
    "                loc_set = set(grouped.head(head).index)\n",
    "                continue\n",
    "            temp_set = set(grouped.head(head).index)\n",
    "            loc_set = loc_set.intersection(temp_set)\n",
    "        loc_list = list(loc_set)\n",
    "        head += 1\n",
    "    return loc_list"
   ]
  },
  {
   "cell_type": "markdown",
   "id": "b32133a4-df32-41fb-901d-277f1049d4c3",
   "metadata": {},
   "source": [
    "### Is there a significant (statistical) difference between salaries in countries?\n",
    "- When we remove outliers what happens?\n",
    "- Do we see a trend in outliers?\n",
    "- Can we break down what we see in the two or three highest salary countries?"
   ]
  },
  {
   "cell_type": "code",
   "execution_count": 16,
   "id": "dcee4264-7c3c-4eaf-b79d-cfba38fb5284",
   "metadata": {},
   "outputs": [
    {
     "data": {
      "text/html": [
       "<div>\n",
       "<style scoped>\n",
       "    .dataframe tbody tr th:only-of-type {\n",
       "        vertical-align: middle;\n",
       "    }\n",
       "\n",
       "    .dataframe tbody tr th {\n",
       "        vertical-align: top;\n",
       "    }\n",
       "\n",
       "    .dataframe thead th {\n",
       "        text-align: right;\n",
       "    }\n",
       "</style>\n",
       "<table border=\"1\" class=\"dataframe\">\n",
       "  <thead>\n",
       "    <tr style=\"text-align: right;\">\n",
       "      <th></th>\n",
       "      <th>year</th>\n",
       "      <th>country</th>\n",
       "      <th>convertedcompyearly</th>\n",
       "    </tr>\n",
       "  </thead>\n",
       "  <tbody>\n",
       "    <tr>\n",
       "      <th>0</th>\n",
       "      <td>2022</td>\n",
       "      <td>GBR</td>\n",
       "      <td>40205</td>\n",
       "    </tr>\n",
       "    <tr>\n",
       "      <th>1</th>\n",
       "      <td>2019</td>\n",
       "      <td>CAN</td>\n",
       "      <td>366420</td>\n",
       "    </tr>\n",
       "    <tr>\n",
       "      <th>2</th>\n",
       "      <td>2019</td>\n",
       "      <td>NZL</td>\n",
       "      <td>95179</td>\n",
       "    </tr>\n",
       "    <tr>\n",
       "      <th>3</th>\n",
       "      <td>2019</td>\n",
       "      <td>IND</td>\n",
       "      <td>13293</td>\n",
       "    </tr>\n",
       "    <tr>\n",
       "      <th>4</th>\n",
       "      <td>2019</td>\n",
       "      <td>IND</td>\n",
       "      <td>13293</td>\n",
       "    </tr>\n",
       "    <tr>\n",
       "      <th>...</th>\n",
       "      <td>...</td>\n",
       "      <td>...</td>\n",
       "      <td>...</td>\n",
       "    </tr>\n",
       "    <tr>\n",
       "      <th>65207</th>\n",
       "      <td>2020</td>\n",
       "      <td>USA</td>\n",
       "      <td>412000</td>\n",
       "    </tr>\n",
       "    <tr>\n",
       "      <th>65208</th>\n",
       "      <td>2021</td>\n",
       "      <td>USA</td>\n",
       "      <td>151000</td>\n",
       "    </tr>\n",
       "    <tr>\n",
       "      <th>65209</th>\n",
       "      <td>2020</td>\n",
       "      <td>USA</td>\n",
       "      <td>105000</td>\n",
       "    </tr>\n",
       "    <tr>\n",
       "      <th>65210</th>\n",
       "      <td>2020</td>\n",
       "      <td>USA</td>\n",
       "      <td>100000</td>\n",
       "    </tr>\n",
       "    <tr>\n",
       "      <th>65211</th>\n",
       "      <td>2021</td>\n",
       "      <td>IND</td>\n",
       "      <td>94665</td>\n",
       "    </tr>\n",
       "  </tbody>\n",
       "</table>\n",
       "<p>65212 rows × 3 columns</p>\n",
       "</div>"
      ],
      "text/plain": [
       "       year country  convertedcompyearly\n",
       "0      2022     GBR                40205\n",
       "1      2019     CAN               366420\n",
       "2      2019     NZL                95179\n",
       "3      2019     IND                13293\n",
       "4      2019     IND                13293\n",
       "...     ...     ...                  ...\n",
       "65207  2020     USA               412000\n",
       "65208  2021     USA               151000\n",
       "65209  2020     USA               105000\n",
       "65210  2020     USA               100000\n",
       "65211  2021     IND                94665\n",
       "\n",
       "[65212 rows x 3 columns]"
      ]
     },
     "execution_count": 16,
     "metadata": {},
     "output_type": "execute_result"
    }
   ],
   "source": [
    "loc_so = s_o[[\"year\", \"country\", \"convertedcompyearly\"]]\n",
    "loc_so.loc[:, \"year\"] = loc_so.loc[:, \"year\"].astype('int64')\n",
    "\n",
    "loc_sal = salaries[[\"work_year\", \"employee_residence\", \"salary_in_usd\"]]\n",
    "loc_sal.loc[:, \"salary_in_usd\"] = loc_sal.loc[:, \"salary_in_usd\"].astype(\"float64\")\n",
    "loc_sal.columns = loc_so.columns\n",
    "\n",
    "\n",
    "location = pd.concat([loc_so, loc_sal], ignore_index=True)\n",
    "location"
   ]
  },
  {
   "cell_type": "markdown",
   "id": "a7fdc331-4041-4692-ab97-ca45b1191d97",
   "metadata": {},
   "source": [
    "### Side Quest: Outliers"
   ]
  },
  {
   "cell_type": "markdown",
   "id": "8444e5d9-fd92-4c00-baf0-1a17090d4c94",
   "metadata": {},
   "source": [
    "Whats the story on the outliers?\n",
    "- is it an outlier that started a trend and we see more?\n",
    "- is it an oddity?\n",
    "\n",
    "Hiking analogy\n",
    "- go high level, then take a step down and keep going down\n",
    "- go onto the next subject\n",
    "- like for us go down to specific countries and specific analysis\n",
    "- not only for the narrative, but what the data can tell us"
   ]
  },
  {
   "cell_type": "code",
   "execution_count": 17,
   "id": "004a0527-7897-4666-be02-66e876e0cd79",
   "metadata": {},
   "outputs": [
    {
     "name": "stdout",
     "output_type": "stream",
     "text": [
      "Outliers: 5246 vs. Normal: 65212\n"
     ]
    }
   ],
   "source": [
    "IQR = location[\"convertedcompyearly\"].quantile(0.75) - location[\"convertedcompyearly\"].quantile(0.25)\n",
    "q3 = location[\"convertedcompyearly\"].quantile(0.75)\n",
    "outliers = location[location['convertedcompyearly'] > q3 + IQR]\n",
    "print(f\"Outliers: {len(outliers)} vs. Normal: {len(location)}\")"
   ]
  },
  {
   "cell_type": "code",
   "execution_count": 18,
   "id": "a68bdaa7-5bd0-4778-bade-1db13d06dca6",
   "metadata": {},
   "outputs": [
    {
     "data": {
      "text/html": [
       "<div>\n",
       "<style scoped>\n",
       "    .dataframe tbody tr th:only-of-type {\n",
       "        vertical-align: middle;\n",
       "    }\n",
       "\n",
       "    .dataframe tbody tr th {\n",
       "        vertical-align: top;\n",
       "    }\n",
       "\n",
       "    .dataframe thead th {\n",
       "        text-align: right;\n",
       "    }\n",
       "</style>\n",
       "<table border=\"1\" class=\"dataframe\">\n",
       "  <thead>\n",
       "    <tr style=\"text-align: right;\">\n",
       "      <th></th>\n",
       "      <th>year</th>\n",
       "      <th>country</th>\n",
       "      <th>convertedcompyearly</th>\n",
       "    </tr>\n",
       "  </thead>\n",
       "  <tbody>\n",
       "    <tr>\n",
       "      <th>40950</th>\n",
       "      <td>2021</td>\n",
       "      <td>JPN</td>\n",
       "      <td>224823</td>\n",
       "    </tr>\n",
       "    <tr>\n",
       "      <th>8871</th>\n",
       "      <td>2020</td>\n",
       "      <td>JPN</td>\n",
       "      <td>224823</td>\n",
       "    </tr>\n",
       "    <tr>\n",
       "      <th>40951</th>\n",
       "      <td>2021</td>\n",
       "      <td>JPN</td>\n",
       "      <td>224823</td>\n",
       "    </tr>\n",
       "    <tr>\n",
       "      <th>8872</th>\n",
       "      <td>2020</td>\n",
       "      <td>JPN</td>\n",
       "      <td>224823</td>\n",
       "    </tr>\n",
       "    <tr>\n",
       "      <th>55965</th>\n",
       "      <td>2023</td>\n",
       "      <td>USA</td>\n",
       "      <td>224800</td>\n",
       "    </tr>\n",
       "    <tr>\n",
       "      <th>28113</th>\n",
       "      <td>2019</td>\n",
       "      <td>IND</td>\n",
       "      <td>224664</td>\n",
       "    </tr>\n",
       "    <tr>\n",
       "      <th>58856</th>\n",
       "      <td>2023</td>\n",
       "      <td>USA</td>\n",
       "      <td>224500</td>\n",
       "    </tr>\n",
       "    <tr>\n",
       "      <th>29756</th>\n",
       "      <td>2020</td>\n",
       "      <td>AUS</td>\n",
       "      <td>224484</td>\n",
       "    </tr>\n",
       "    <tr>\n",
       "      <th>24381</th>\n",
       "      <td>2022</td>\n",
       "      <td>IND</td>\n",
       "      <td>224412</td>\n",
       "    </tr>\n",
       "    <tr>\n",
       "      <th>24380</th>\n",
       "      <td>2022</td>\n",
       "      <td>IND</td>\n",
       "      <td>224412</td>\n",
       "    </tr>\n",
       "  </tbody>\n",
       "</table>\n",
       "</div>"
      ],
      "text/plain": [
       "       year country  convertedcompyearly\n",
       "40950  2021     JPN               224823\n",
       "8871   2020     JPN               224823\n",
       "40951  2021     JPN               224823\n",
       "8872   2020     JPN               224823\n",
       "55965  2023     USA               224800\n",
       "28113  2019     IND               224664\n",
       "58856  2023     USA               224500\n",
       "29756  2020     AUS               224484\n",
       "24381  2022     IND               224412\n",
       "24380  2022     IND               224412"
      ]
     },
     "execution_count": 18,
     "metadata": {},
     "output_type": "execute_result"
    }
   ],
   "source": [
    "outliers = outliers.sort_values(\"convertedcompyearly\", ascending=False)\n",
    "outliers.tail(10)"
   ]
  },
  {
   "cell_type": "code",
   "execution_count": 19,
   "id": "c22b5c8e-6e87-4d78-803f-fd46413203ab",
   "metadata": {},
   "outputs": [
    {
     "data": {
      "text/plain": [
       "<Axes: >"
      ]
     },
     "execution_count": 19,
     "metadata": {},
     "output_type": "execute_result"
    },
    {
     "data": {
      "image/png": "[encoded data removed]",
      "text/plain": [
       "<Figure size 640x480 with 1 Axes>"
      ]
     },
     "metadata": {},
     "output_type": "display_data"
    }
   ],
   "source": [
    "outliers[\"year\"].hist()"
   ]
  },
  {
   "cell_type": "markdown",
   "id": "26e8e55a-6801-4855-a41b-2c76edfc5c6e",
   "metadata": {},
   "source": [
    "We can see trend with the pandemic. We see people losing their jobs, then slow beings to self correct. Though, there may still be some trolling due to a max value of like \\$50,000,000 somewhere within the outliers."
   ]
  },
  {
   "cell_type": "code",
   "execution_count": 20,
   "id": "a7f4c666-1734-456e-bb84-fae837716c89",
   "metadata": {},
   "outputs": [
    {
     "data": {
      "text/html": [
       "<div>\n",
       "<style scoped>\n",
       "    .dataframe tbody tr th:only-of-type {\n",
       "        vertical-align: middle;\n",
       "    }\n",
       "\n",
       "    .dataframe tbody tr th {\n",
       "        vertical-align: top;\n",
       "    }\n",
       "\n",
       "    .dataframe thead th {\n",
       "        text-align: right;\n",
       "    }\n",
       "</style>\n",
       "<table border=\"1\" class=\"dataframe\">\n",
       "  <thead>\n",
       "    <tr style=\"text-align: right;\">\n",
       "      <th></th>\n",
       "      <th>count</th>\n",
       "      <th>mean</th>\n",
       "      <th>median</th>\n",
       "      <th>std</th>\n",
       "    </tr>\n",
       "    <tr>\n",
       "      <th>country</th>\n",
       "      <th></th>\n",
       "      <th></th>\n",
       "      <th></th>\n",
       "      <th></th>\n",
       "    </tr>\n",
       "  </thead>\n",
       "  <tbody>\n",
       "    <tr>\n",
       "      <th>AFG</th>\n",
       "      <td>2</td>\n",
       "      <td>1000000</td>\n",
       "      <td>1000000</td>\n",
       "      <td>0</td>\n",
       "    </tr>\n",
       "    <tr>\n",
       "      <th>ALB</th>\n",
       "      <td>1</td>\n",
       "      <td>692042</td>\n",
       "      <td>692042</td>\n",
       "      <td>NaN</td>\n",
       "    </tr>\n",
       "    <tr>\n",
       "      <th>ARG</th>\n",
       "      <td>3</td>\n",
       "      <td>398357</td>\n",
       "      <td>403741</td>\n",
       "      <td>9326</td>\n",
       "    </tr>\n",
       "    <tr>\n",
       "      <th>ARM</th>\n",
       "      <td>1</td>\n",
       "      <td>255945</td>\n",
       "      <td>255945</td>\n",
       "      <td>NaN</td>\n",
       "    </tr>\n",
       "    <tr>\n",
       "      <th>AUS</th>\n",
       "      <td>127</td>\n",
       "      <td>1107002</td>\n",
       "      <td>1000000</td>\n",
       "      <td>914812</td>\n",
       "    </tr>\n",
       "    <tr>\n",
       "      <th>...</th>\n",
       "      <td>...</td>\n",
       "      <td>...</td>\n",
       "      <td>...</td>\n",
       "      <td>...</td>\n",
       "    </tr>\n",
       "    <tr>\n",
       "      <th>UZB</th>\n",
       "      <td>1</td>\n",
       "      <td>1000000</td>\n",
       "      <td>1000000</td>\n",
       "      <td>NaN</td>\n",
       "    </tr>\n",
       "    <tr>\n",
       "      <th>VNM</th>\n",
       "      <td>2</td>\n",
       "      <td>629372</td>\n",
       "      <td>629372</td>\n",
       "      <td>524147</td>\n",
       "    </tr>\n",
       "    <tr>\n",
       "      <th>Venezuela, Bolivarian Republic of...</th>\n",
       "      <td>2</td>\n",
       "      <td>229596</td>\n",
       "      <td>229596</td>\n",
       "      <td>0</td>\n",
       "    </tr>\n",
       "    <tr>\n",
       "      <th>ZAF</th>\n",
       "      <td>19</td>\n",
       "      <td>513315</td>\n",
       "      <td>432324</td>\n",
       "      <td>202399</td>\n",
       "    </tr>\n",
       "    <tr>\n",
       "      <th>ZWE</th>\n",
       "      <td>1</td>\n",
       "      <td>568968</td>\n",
       "      <td>568968</td>\n",
       "      <td>NaN</td>\n",
       "    </tr>\n",
       "  </tbody>\n",
       "</table>\n",
       "<p>85 rows × 4 columns</p>\n",
       "</div>"
      ],
      "text/plain": [
       "                                      count    mean  median    std\n",
       "country                                                           \n",
       "AFG                                       2 1000000 1000000      0\n",
       "ALB                                       1  692042  692042    NaN\n",
       "ARG                                       3  398357  403741   9326\n",
       "ARM                                       1  255945  255945    NaN\n",
       "AUS                                     127 1107002 1000000 914812\n",
       "...                                     ...     ...     ...    ...\n",
       "UZB                                       1 1000000 1000000    NaN\n",
       "VNM                                       2  629372  629372 524147\n",
       "Venezuela, Bolivarian Republic of...      2  229596  229596      0\n",
       "ZAF                                      19  513315  432324 202399\n",
       "ZWE                                       1  568968  568968    NaN\n",
       "\n",
       "[85 rows x 4 columns]"
      ]
     },
     "execution_count": 20,
     "metadata": {},
     "output_type": "execute_result"
    }
   ],
   "source": [
    "outliers.groupby(\"country\").agg(\n",
    "    count=('year', \"size\"), \n",
    "    mean=('convertedcompyearly', 'mean'), \n",
    "    median=('convertedcompyearly', 'median'),\n",
    "    std=('convertedcompyearly', 'std')\n",
    ")"
   ]
  },
  {
   "cell_type": "code",
   "execution_count": 21,
   "id": "55e3f97d-b65b-4e57-b75c-4cf6a8b3ee70",
   "metadata": {},
   "outputs": [
    {
     "data": {
      "text/plain": [
       "<Axes: >"
      ]
     },
     "execution_count": 21,
     "metadata": {},
     "output_type": "execute_result"
    },
    {
     "data": {
      "image/png": "[encoded data removed]",
      "text/plain": [
       "<Figure size 640x480 with 1 Axes>"
      ]
     },
     "metadata": {},
     "output_type": "display_data"
    }
   ],
   "source": [
    "outliers_usa = outliers[outliers[\"country\"] == \"USA\"]\n",
    "outliers_usa[\"year\"].hist()"
   ]
  },
  {
   "cell_type": "code",
   "execution_count": 22,
   "id": "70c9fca1-b59b-4d67-816b-9a868648c02f",
   "metadata": {},
   "outputs": [
    {
     "data": {
      "text/plain": [
       "<function __main__.adjust_usd_to_2023_usd(old_usd: float, year: str) -> float>"
      ]
     },
     "execution_count": 22,
     "metadata": {},
     "output_type": "execute_result"
    }
   ],
   "source": [
    "adjust_usd_to_2023_usd"
   ]
  },
  {
   "cell_type": "markdown",
   "id": "7f7e3b19-1022-4acd-965c-e0a4b3efae86",
   "metadata": {},
   "source": [
    "### Back to location"
   ]
  },
  {
   "cell_type": "code",
   "execution_count": 23,
   "id": "38f7d1a7-7391-4acc-bd6d-e49451e50c8f",
   "metadata": {},
   "outputs": [],
   "source": [
    "location = location[location['convertedcompyearly'] < q3 + IQR]\n",
    "countries = get_similar_countries(location, 20)"
   ]
  },
  {
   "cell_type": "code",
   "execution_count": 24,
   "id": "fabb8498-341b-435e-9c2e-1fe5dbeceb7e",
   "metadata": {},
   "outputs": [],
   "source": [
    "groupped = location.groupby(\"year\")"
   ]
  },
  {
   "cell_type": "code",
   "execution_count": 25,
   "id": "0a666c9c-e2f5-42b8-b1c9-c91fa9f0af5a",
   "metadata": {},
   "outputs": [],
   "source": [
    "dfs = []\n",
    "for year, frame in groupped:\n",
    "    t_tests = np.zeros((len(countries), len(countries)))\n",
    "    frame = frame[frame[\"country\"].isin(countries)]\n",
    "    for i in range(len(countries)):\n",
    "        control = countries[i]\n",
    "        for j in range(i+1, len(countries)):\n",
    "            exp = countries[j]\n",
    "            d1 = frame[frame[\"country\"] == control]\n",
    "            d2 = frame[frame[\"country\"] == exp]\n",
    "            result = pg.ttest(d1.convertedcompyearly, d2.convertedcompyearly).round(3) # this is 2 tailed\n",
    "            t_tests[j, i] = result.loc[\"T-test\", \"p-val\"]\n",
    "    df = pd.DataFrame(t_tests, columns=countries, index=countries)\n",
    "    dfs.append(df)"
   ]
  },
  {
   "cell_type": "code",
   "execution_count": 37,
   "id": "b5d7dbfe-48b2-45f3-b5bd-93d3c2405c53",
   "metadata": {},
   "outputs": [
    {
     "name": "stdout",
     "output_type": "stream",
     "text": [
      "5\n"
     ]
    }
   ],
   "source": [
    "print(len(dfs))\n",
    "# not a heatmap for value\n",
    "# is everything kind of moving? do relationships stay throughout the years?\n",
    "# # better visualization?\n",
    "# fabricated metric? see correlation between the years\n",
    "# # comprehensive view of this\n",
    "# heatmap works for all the years into a single metric with the heat map\n",
    "# growth rate between year\n",
    "# collapse data set and get deltas from start to end\n",
    "# # in between years and see correlations between growth\n",
    "# fig, axes = plt.subplots(5, 1, figsize=(6, 25))\n",
    "# for i in range(len(dfs)):\n",
    "#     sns.heatmap(dfs[i], ax=axes[i])\n",
    "# # plt.show()"
   ]
  },
  {
   "cell_type": "code",
   "execution_count": 27,
   "id": "40c2f0e9-6aa9-4804-b7ab-7c8cfd36b6c6",
   "metadata": {},
   "outputs": [],
   "source": [
    "from collections import defaultdict\n",
    "\n",
    "# year{{country : {country: num}}}\n",
    "stat_counts = defaultdict(lambda: defaultdict(lambda: defaultdict(lambda: 0)))\n",
    "year = 2019\n",
    "\n",
    "for df in dfs:\n",
    "    for start in range(len(df)):\n",
    "        r = start\n",
    "        c = 0\n",
    "        dec_row = False\n",
    "        while c < len(df) and r < len(df):\n",
    "            \n",
    "            if r == c: # then we are on the diagonal\n",
    "                dec_row = True\n",
    "                r += 1\n",
    "                continue\n",
    "\n",
    "            row = df.index[r]\n",
    "            col = df.columns[c]\n",
    "            \n",
    "            if df.iloc[r, c] < 0.05:\n",
    "                val = 1\n",
    "            else:\n",
    "                val = 0\n",
    "                    \n",
    "            if not dec_row: # we are going across\n",
    "                stat_counts[str(year)][row][col] = val\n",
    "                c += 1\n",
    "            else:\n",
    "                stat_counts[str(year)][col][row] = val\n",
    "                r += 1\n",
    "    year += 1\n",
    "\n",
    "# stat_counts"
   ]
  },
  {
   "cell_type": "code",
   "execution_count": 28,
   "id": "2450e8b6-cc77-4965-b5de-dfc353801cf4",
   "metadata": {},
   "outputs": [],
   "source": [
    "# {year: {country : {country: num}}}\n",
    "result = {}\n",
    "for year, count_dict in stat_counts.items():\n",
    "    counts = [] \n",
    "    for key, value in count_dict.items():\n",
    "        counts.append((key, sum(value.values())))\n",
    "    result[year] = counts\n",
    "\n",
    "transformed_data = {}\n",
    "for key, tuples in result.items():\n",
    "    for tup in tuples:\n",
    "        index, value = tup[0], tup[1]\n",
    "        if index not in transformed_data:\n",
    "            transformed_data[index] = {}\n",
    "        transformed_data[index][key] = value\n",
    "\n",
    "# Create DataFrame\n",
    "working = pd.DataFrame.from_dict(transformed_data, orient='index')\n",
    "# working"
   ]
  },
  {
   "cell_type": "code",
   "execution_count": 29,
   "id": "314a76c4-03cb-4d59-9759-3ef831462704",
   "metadata": {},
   "outputs": [
    {
     "data": {
      "image/png": "[encoded data removed]",
      "text/plain": [
       "<Figure size 1500x600 with 1 Axes>"
      ]
     },
     "metadata": {},
     "output_type": "display_data"
    }
   ],
   "source": [
    "fig, ax = plt.subplots(figsize=(15, 6))\n",
    "\n",
    "bottom = np.zeros(len(result[\"2019\"]))\n",
    "for year, tup in result.items():\n",
    "    countries, counts = [], []\n",
    "    for country, count in tup:\n",
    "        countries.append(country)\n",
    "        counts.append(count)\n",
    "    counts = np.array(counts)\n",
    "    ax.barh(countries, counts, label=year, left=bottom)\n",
    "    bottom += counts\n",
    "\n",
    "# https://www.pythoncharts.com/matplotlib/stacked-bar-charts-labels/\n",
    "y_offset = -0.55\n",
    "for bar in ax.patches:\n",
    "  ax.text(\n",
    "      bar.get_x() + bar.get_width() / 2,\n",
    "      bar.get_height() + bar.get_y() + y_offset,\n",
    "      round(bar.get_width()),\n",
    "      ha='center',\n",
    "      color='k',\n",
    "      size=8\n",
    "  )\n",
    "\n",
    "ax.legend(loc=\"best\")\n",
    "ax.set_title(\"number of statistically significant differences\")\n",
    "ax.set_xlabel('count')\n",
    "ax.set_ylabel('country')\n",
    "plt.savefig(\"charts/significant_diffs_by_country.png\")\n",
    "plt.show()"
   ]
  },
  {
   "cell_type": "markdown",
   "id": "a66c220e-c131-40bc-83b0-276114e683a8",
   "metadata": {},
   "source": [
    "Looking at the top"
   ]
  },
  {
   "cell_type": "code",
   "execution_count": 30,
   "id": "1432ddc2-4021-46a5-a3a8-f8d34f5f7a0d",
   "metadata": {},
   "outputs": [],
   "source": [
    "usa = location[location[\"country\"] == \"USA\"]\n",
    "gbr = location[location[\"country\"] == \"GBR\"]"
   ]
  },
  {
   "cell_type": "code",
   "execution_count": 31,
   "id": "cc58f396-7575-470b-b800-b09e6451fc6a",
   "metadata": {},
   "outputs": [
    {
     "data": {
      "text/html": [
       "<div>\n",
       "<style scoped>\n",
       "    .dataframe tbody tr th:only-of-type {\n",
       "        vertical-align: middle;\n",
       "    }\n",
       "\n",
       "    .dataframe tbody tr th {\n",
       "        vertical-align: top;\n",
       "    }\n",
       "\n",
       "    .dataframe thead th {\n",
       "        text-align: right;\n",
       "    }\n",
       "</style>\n",
       "<table border=\"1\" class=\"dataframe\">\n",
       "  <thead>\n",
       "    <tr style=\"text-align: right;\">\n",
       "      <th></th>\n",
       "      <th>mean</th>\n",
       "      <th>std</th>\n",
       "      <th>max</th>\n",
       "      <th>min</th>\n",
       "    </tr>\n",
       "    <tr>\n",
       "      <th>year</th>\n",
       "      <th></th>\n",
       "      <th></th>\n",
       "      <th></th>\n",
       "      <th></th>\n",
       "    </tr>\n",
       "  </thead>\n",
       "  <tbody>\n",
       "    <tr>\n",
       "      <th>2019</th>\n",
       "      <td>102966</td>\n",
       "      <td>43933</td>\n",
       "      <td>222000</td>\n",
       "      <td>0</td>\n",
       "    </tr>\n",
       "    <tr>\n",
       "      <th>2020</th>\n",
       "      <td>108276</td>\n",
       "      <td>44531</td>\n",
       "      <td>220000</td>\n",
       "      <td>0</td>\n",
       "    </tr>\n",
       "    <tr>\n",
       "      <th>2021</th>\n",
       "      <td>114284</td>\n",
       "      <td>45865</td>\n",
       "      <td>224000</td>\n",
       "      <td>1</td>\n",
       "    </tr>\n",
       "    <tr>\n",
       "      <th>2022</th>\n",
       "      <td>131174</td>\n",
       "      <td>44648</td>\n",
       "      <td>224000</td>\n",
       "      <td>36</td>\n",
       "    </tr>\n",
       "    <tr>\n",
       "      <th>2023</th>\n",
       "      <td>140243</td>\n",
       "      <td>42776</td>\n",
       "      <td>224400</td>\n",
       "      <td>185</td>\n",
       "    </tr>\n",
       "  </tbody>\n",
       "</table>\n",
       "</div>"
      ],
      "text/plain": [
       "       mean   std    max  min\n",
       "year                         \n",
       "2019 102966 43933 222000    0\n",
       "2020 108276 44531 220000    0\n",
       "2021 114284 45865 224000    1\n",
       "2022 131174 44648 224000   36\n",
       "2023 140243 42776 224400  185"
      ]
     },
     "metadata": {},
     "output_type": "display_data"
    },
    {
     "data": {
      "text/html": [
       "<div>\n",
       "<style scoped>\n",
       "    .dataframe tbody tr th:only-of-type {\n",
       "        vertical-align: middle;\n",
       "    }\n",
       "\n",
       "    .dataframe tbody tr th {\n",
       "        vertical-align: top;\n",
       "    }\n",
       "\n",
       "    .dataframe thead th {\n",
       "        text-align: right;\n",
       "    }\n",
       "</style>\n",
       "<table border=\"1\" class=\"dataframe\">\n",
       "  <thead>\n",
       "    <tr style=\"text-align: right;\">\n",
       "      <th></th>\n",
       "      <th>mean</th>\n",
       "      <th>std</th>\n",
       "      <th>max</th>\n",
       "      <th>min</th>\n",
       "    </tr>\n",
       "    <tr>\n",
       "      <th>year</th>\n",
       "      <th></th>\n",
       "      <th></th>\n",
       "      <th></th>\n",
       "      <th></th>\n",
       "    </tr>\n",
       "  </thead>\n",
       "  <tbody>\n",
       "    <tr>\n",
       "      <th>2019</th>\n",
       "      <td>67732</td>\n",
       "      <td>39082</td>\n",
       "      <td>212650</td>\n",
       "      <td>0</td>\n",
       "    </tr>\n",
       "    <tr>\n",
       "      <th>2020</th>\n",
       "      <td>69779</td>\n",
       "      <td>38624</td>\n",
       "      <td>219741</td>\n",
       "      <td>0</td>\n",
       "    </tr>\n",
       "    <tr>\n",
       "      <th>2021</th>\n",
       "      <td>75420</td>\n",
       "      <td>38999</td>\n",
       "      <td>219741</td>\n",
       "      <td>39</td>\n",
       "    </tr>\n",
       "    <tr>\n",
       "      <th>2022</th>\n",
       "      <td>82462</td>\n",
       "      <td>38790</td>\n",
       "      <td>215592</td>\n",
       "      <td>69</td>\n",
       "    </tr>\n",
       "    <tr>\n",
       "      <th>2023</th>\n",
       "      <td>89307</td>\n",
       "      <td>43451</td>\n",
       "      <td>218483</td>\n",
       "      <td>50</td>\n",
       "    </tr>\n",
       "  </tbody>\n",
       "</table>\n",
       "</div>"
      ],
      "text/plain": [
       "      mean   std    max  min\n",
       "year                        \n",
       "2019 67732 39082 212650    0\n",
       "2020 69779 38624 219741    0\n",
       "2021 75420 38999 219741   39\n",
       "2022 82462 38790 215592   69\n",
       "2023 89307 43451 218483   50"
      ]
     },
     "metadata": {},
     "output_type": "display_data"
    }
   ],
   "source": [
    "display(\n",
    "    usa.groupby(\"year\")[\"convertedcompyearly\"].agg([\"mean\", \"std\", \"max\", \"min\"]),\n",
    "    gbr.groupby(\"year\")[\"convertedcompyearly\"].agg([\"mean\", \"std\", \"max\", \"min\"])\n",
    ")"
   ]
  },
  {
   "cell_type": "markdown",
   "id": "008737cf-a49b-4247-b1b7-e643e20c5fc7",
   "metadata": {},
   "source": [
    "### Does how does experience look on the salaries?\n",
    "- What happens if we break it down by country?\n",
    "- Does the number of X experience level correlate a higher salary?\n",
    "- What if we look at the degree?"
   ]
  },
  {
   "cell_type": "code",
   "execution_count": 32,
   "id": "5a14b2b0-174e-40ff-817e-ce28e900ac0b",
   "metadata": {},
   "outputs": [
    {
     "data": {
      "text/plain": [
       "Index(['yearscode', 'mainbranch', 'country', 'yearscodepro', 'surveyease',\n",
       "       'sovisitfreq', 'convertedcompyearly', 'employment', 'socomm',\n",
       "       'sopartfreq', 'soaccount', 'orgsize', 'surveylength', 'age',\n",
       "       'comptotal', 'count', 'year', 'edlevel', 'analyst', 'data scientist',\n",
       "       'developer', 'engineer_other', 'management', 'scientist_other',\n",
       "       'systems_architect'],\n",
       "      dtype='object')"
      ]
     },
     "execution_count": 32,
     "metadata": {},
     "output_type": "execute_result"
    }
   ],
   "source": [
    "s_o.columns"
   ]
  },
  {
   "cell_type": "code",
   "execution_count": 33,
   "id": "95743334-9ca5-41ed-8d70-efcd20196d42",
   "metadata": {},
   "outputs": [
    {
     "data": {
      "text/plain": [
       "Index(['work_year', 'experience_level', 'employment_type', 'job_title',\n",
       "       'salary', 'salary_currency', 'salary_in_usd', 'employee_residence',\n",
       "       'remote_ratio', 'company_location', 'company_size'],\n",
       "      dtype='object')"
      ]
     },
     "execution_count": 33,
     "metadata": {},
     "output_type": "execute_result"
    }
   ],
   "source": [
    "salaries.columns"
   ]
  },
  {
   "cell_type": "code",
   "execution_count": 34,
   "id": "54346e12-ef7a-4652-be0c-c77a42be5ca3",
   "metadata": {},
   "outputs": [
    {
     "data": {
      "text/plain": [
       "{'SE': 'Senior', 'MI': 'Middle', 'EN': 'Entry', 'EX': 'Executive'}"
      ]
     },
     "execution_count": 34,
     "metadata": {},
     "output_type": "execute_result"
    }
   ],
   "source": [
    "salaries[\"experience_level\"].unique()\n",
    "{\n",
    "    'SE': 'Senior',\n",
    "    'MI': 'Middle',\n",
    "    'EN': 'Entry',\n",
    "    'EX': 'Executive'\n",
    "}"
   ]
  },
  {
   "cell_type": "code",
   "execution_count": 35,
   "id": "fef454c4-5b1a-4768-a4d8-2d6d1de46fcc",
   "metadata": {},
   "outputs": [],
   "source": [
    "# s_o[\"yearscodepro\"] = s_o[\"yearscodepro\"].astype(int)\n",
    "s_o[\"experience_level\"] = s_o[\"yearscodepro\"].replace({'Less than 1 year': 0, 'More than 50 years': 50})\n",
    "s_o[\"experience_level\"] = s_o[\"experience_level\"].fillna(0)\n",
    "s_o[\"experience_level\"] = s_o[\"experience_level\"].astype(int)\n",
    "s_o[\"experience_level\"] = pd.cut(\n",
    "                                x=s_o[\"experience_level\"], \n",
    "                                bins=[0, 2, 5, 10, np.inf],\n",
    "                                labels=['Entry', 'Middle', 'Senior', 'Executive']\n",
    "                            )"
   ]
  },
  {
   "cell_type": "code",
   "execution_count": 38,
   "id": "67073774-c21e-45ae-8979-3729f7c0b105",
   "metadata": {},
   "outputs": [
    {
     "data": {
      "text/html": [
       "<div>\n",
       "<style scoped>\n",
       "    .dataframe tbody tr th:only-of-type {\n",
       "        vertical-align: middle;\n",
       "    }\n",
       "\n",
       "    .dataframe tbody tr th {\n",
       "        vertical-align: top;\n",
       "    }\n",
       "\n",
       "    .dataframe thead th {\n",
       "        text-align: right;\n",
       "    }\n",
       "</style>\n",
       "<table border=\"1\" class=\"dataframe\">\n",
       "  <thead>\n",
       "    <tr style=\"text-align: right;\">\n",
       "      <th></th>\n",
       "      <th>year</th>\n",
       "      <th>country</th>\n",
       "      <th>experience_level</th>\n",
       "      <th>convertedcompyearly</th>\n",
       "    </tr>\n",
       "  </thead>\n",
       "  <tbody>\n",
       "    <tr>\n",
       "      <th>0</th>\n",
       "      <td>2022</td>\n",
       "      <td>GBR</td>\n",
       "      <td>Middle</td>\n",
       "      <td>40205</td>\n",
       "    </tr>\n",
       "    <tr>\n",
       "      <th>2</th>\n",
       "      <td>2019</td>\n",
       "      <td>NZL</td>\n",
       "      <td>Middle</td>\n",
       "      <td>95179</td>\n",
       "    </tr>\n",
       "    <tr>\n",
       "      <th>3</th>\n",
       "      <td>2019</td>\n",
       "      <td>IND</td>\n",
       "      <td>Senior</td>\n",
       "      <td>13293</td>\n",
       "    </tr>\n",
       "    <tr>\n",
       "      <th>4</th>\n",
       "      <td>2019</td>\n",
       "      <td>IND</td>\n",
       "      <td>Senior</td>\n",
       "      <td>13293</td>\n",
       "    </tr>\n",
       "    <tr>\n",
       "      <th>5</th>\n",
       "      <td>2019</td>\n",
       "      <td>IND</td>\n",
       "      <td>Senior</td>\n",
       "      <td>13293</td>\n",
       "    </tr>\n",
       "    <tr>\n",
       "      <th>...</th>\n",
       "      <td>...</td>\n",
       "      <td>...</td>\n",
       "      <td>...</td>\n",
       "      <td>...</td>\n",
       "    </tr>\n",
       "    <tr>\n",
       "      <th>65206</th>\n",
       "      <td>2021</td>\n",
       "      <td>USA</td>\n",
       "      <td>Senior</td>\n",
       "      <td>165000</td>\n",
       "    </tr>\n",
       "    <tr>\n",
       "      <th>65208</th>\n",
       "      <td>2021</td>\n",
       "      <td>USA</td>\n",
       "      <td>Middle</td>\n",
       "      <td>151000</td>\n",
       "    </tr>\n",
       "    <tr>\n",
       "      <th>65209</th>\n",
       "      <td>2020</td>\n",
       "      <td>USA</td>\n",
       "      <td>Entry</td>\n",
       "      <td>105000</td>\n",
       "    </tr>\n",
       "    <tr>\n",
       "      <th>65210</th>\n",
       "      <td>2020</td>\n",
       "      <td>USA</td>\n",
       "      <td>Entry</td>\n",
       "      <td>100000</td>\n",
       "    </tr>\n",
       "    <tr>\n",
       "      <th>65211</th>\n",
       "      <td>2021</td>\n",
       "      <td>IND</td>\n",
       "      <td>Senior</td>\n",
       "      <td>94665</td>\n",
       "    </tr>\n",
       "  </tbody>\n",
       "</table>\n",
       "<p>59966 rows × 4 columns</p>\n",
       "</div>"
      ],
      "text/plain": [
       "       year country experience_level  convertedcompyearly\n",
       "0      2022     GBR           Middle                40205\n",
       "2      2019     NZL           Middle                95179\n",
       "3      2019     IND           Senior                13293\n",
       "4      2019     IND           Senior                13293\n",
       "5      2019     IND           Senior                13293\n",
       "...     ...     ...              ...                  ...\n",
       "65206  2021     USA           Senior               165000\n",
       "65208  2021     USA           Middle               151000\n",
       "65209  2020     USA            Entry               105000\n",
       "65210  2020     USA            Entry               100000\n",
       "65211  2021     IND           Senior                94665\n",
       "\n",
       "[59966 rows x 4 columns]"
      ]
     },
     "execution_count": 38,
     "metadata": {},
     "output_type": "execute_result"
    }
   ],
   "source": [
    "exp_so = s_o[[\"year\", \"country\", \"experience_level\", \"convertedcompyearly\"]]\n",
    "exp_sal = salaries[[\"work_year\", \"employee_residence\", \"experience_level\", \"salary_in_usd\"]]\n",
    "\n",
    "exp_so.loc[:, \"year\"] = exp_so.loc[:, \"year\"].astype('int64')\n",
    "exp_sal.loc[:, \"salary_in_usd\"] = exp_sal.loc[:, \"salary_in_usd\"].astype(\"float64\")\n",
    "exp_sal[\"experience_level\"] = exp_sal.loc[:, \"experience_level\"].replace({'SE': 'Senior', 'MI': 'Middle', 'EN': 'Entry', 'EX': 'Executive'})\n",
    "\n",
    "exp_sal.columns = exp_so.columns\n",
    "\n",
    "experience = pd.concat([exp_so, exp_sal], ignore_index=True)\n",
    "\n",
    "IQR = experience[\"convertedcompyearly\"].quantile(0.75) - experience[\"convertedcompyearly\"].quantile(0.25)\n",
    "q3 = experience[\"convertedcompyearly\"].quantile(0.75)\n",
    "experience = experience[experience['convertedcompyearly'] < q3 + IQR]\n",
    "experience"
   ]
  },
  {
   "cell_type": "code",
   "execution_count": 40,
   "id": "4b1fd93a-9143-4ec4-9554-2cb34fc1e601",
   "metadata": {},
   "outputs": [
    {
     "data": {
      "text/plain": [
       "year                    object\n",
       "country                 object\n",
       "experience_level        object\n",
       "convertedcompyearly    float64\n",
       "dtype: object"
      ]
     },
     "execution_count": 40,
     "metadata": {},
     "output_type": "execute_result"
    }
   ],
   "source": [
    "experience.dtypes"
   ]
  },
  {
   "cell_type": "code",
   "execution_count": 69,
   "id": "e1d94d44-e5f8-424a-aab6-dcd2fc10fe72",
   "metadata": {},
   "outputs": [
    {
     "data": {
      "image/png": "[encoded data removed]",
      "text/plain": [
       "<Figure size 1500x600 with 2 Axes>"
      ]
     },
     "metadata": {},
     "output_type": "display_data"
    }
   ],
   "source": [
    "e_groups = experience.groupby(['year', \"experience_level\"])[\"convertedcompyearly\"].agg([\"mean\", \"median\", \"std\"]).reset_index()\n",
    "e_groups[\"skewness\"] = 3 * (e_groups[\"mean\"] - e_groups[\"median\"]) / e_groups[\"std\"]\n",
    "\n",
    "fig, axes = plt.subplots(1, 2, figsize=(15, 6))\n",
    "for level in e_groups[\"experience_level\"].unique():\n",
    "    frame = e_groups[e_groups[\"experience_level\"] == level]\n",
    "    axes[0].plot(frame[\"year\"], frame[\"mean\"], label=level)\n",
    "    axes[1].plot(frame[\"year\"], frame[\"std\"], label=level)\n",
    "\n",
    "axes[0].set_title(\"Mean Salaries\")\n",
    "axes[0].set_ylabel(\"USD\")\n",
    "axes[0].set_xlabel(\"Year\")\n",
    "axes[0].set_xticks([2019, 2020, 2021, 2022, 2023])\n",
    "axes[1].set_title(\"Std of Salaries\")\n",
    "axes[1].set_ylabel(\"USD\")\n",
    "axes[1].set_xlabel(\"Year\")\n",
    "axes[1].set_xticks([2019, 2020, 2021, 2022, 2023])\n",
    "\n",
    "plt.legend(loc=\"best\")\n",
    "plt.show()"
   ]
  },
  {
   "cell_type": "code",
   "execution_count": 68,
   "id": "6c1f5926-d759-476d-9680-b1f46862c22f",
   "metadata": {},
   "outputs": [
    {
     "data": {
      "image/png": "[encoded data removed]",
      "text/plain": [
       "<Figure size 1500x600 with 2 Axes>"
      ]
     },
     "metadata": {},
     "output_type": "display_data"
    }
   ],
   "source": [
    "e_groups = experience[experience[\"country\"] == \"USA\"] \\\n",
    "                .groupby(['year', \"experience_level\"])[\"convertedcompyearly\"] \\\n",
    "                .agg([\"mean\", \"median\", \"std\"]).reset_index()\n",
    "e_groups[\"skewness\"] = 3 * (e_groups[\"mean\"] - e_groups[\"median\"]) / e_groups[\"std\"]\n",
    "\n",
    "fig, axes = plt.subplots(1, 2, figsize=(15, 6))\n",
    "for level in e_groups[\"experience_level\"].unique():\n",
    "    frame = e_groups[e_groups[\"experience_level\"] == level]\n",
    "    axes[0].plot(frame[\"year\"], frame[\"mean\"], label=level)\n",
    "    axes[1].plot(frame[\"year\"], frame[\"std\"], label=level)\n",
    "\n",
    "axes[0].set_title(\"Mean Salaries\")\n",
    "axes[0].set_ylabel(\"USD\")\n",
    "axes[0].set_xlabel(\"Year\")\n",
    "axes[0].set_xticks([2019, 2020, 2021, 2022, 2023])\n",
    "axes[1].set_title(\"Std of Salaries\")\n",
    "axes[1].set_ylabel(\"USD\")\n",
    "axes[1].set_xlabel(\"Year\")\n",
    "axes[1].set_xticks([2019, 2020, 2021, 2022, 2023])\n",
    "\n",
    "plt.legend(loc=\"best\")\n",
    "plt.show()"
   ]
  },
  {
   "cell_type": "markdown",
   "id": "f127370a-2af4-47fb-b8e2-2616778d9962",
   "metadata": {},
   "source": [
    "### Between these data practitioners which skill showed up the most?\n",
    "- Can we break this down further by location, or even degree or years of experience after binning?\n",
    "- Can we say more skills CORRELATES to a higher salary?"
   ]
  },
  {
   "cell_type": "code",
   "execution_count": 86,
   "id": "46dcde13-6187-4e67-a95a-d19172131f67",
   "metadata": {},
   "outputs": [],
   "source": [
    "skills_list\n",
    "relevant_skills = [skill for skill in skills_list if \"hww\" in skill]\n",
    "language = [skill for skill in relevant_skills if \"lg\" in skill]\n",
    "database = [skill for skill in relevant_skills if \"db\" in skill]\n",
    "platform = [skill for skill in relevant_skills if \"pf\" in skill]\n",
    "misctool = [skill for skill in relevant_skills if \"mf\" in skill]"
   ]
  },
  {
   "cell_type": "code",
   "execution_count": 87,
   "id": "ab47ae6c-31f0-4985-9a15-c6e21a52c28b",
   "metadata": {},
   "outputs": [],
   "source": [
    "# language: lg, database: db, misc tech: mt, platform: pf\n",
    "s_job = pd.concat([s_o, stack_overflow[relevant_skills]], axis=1)\n",
    "s_job[\"total_skills\"] = s_job[relevant_skills].sum(axis=1)"
   ]
  },
  {
   "cell_type": "code",
   "execution_count": null,
   "id": "cc6e654f-ce36-4cb2-8b71-7bfcc005a46f",
   "metadata": {},
   "outputs": [],
   "source": [
    "skill_groups = s_job.groupby([\"year\", \"experience_level\"])[\"total_skills\"].agg([\"mean\", \"median\", pd.Series.mode, \"std\"]).reset_index()\n",
    "\n",
    "fig, axes = plt.subplots(1, 2, figsize=(15, 6))\n",
    "for level in skill_groups[\"experience_level\"].unique():\n",
    "    frame = skill_groups[skill_groups[\"experience_level\"] == level]\n",
    "    axes[0].plot(frame[\"year\"], frame[\"mean\"], label=level)\n",
    "    axes[1].plot(frame[\"year\"], frame[\"std\"], label=level)\n",
    "\n",
    "axes[0].set_title(\"Mean Skills\")\n",
    "axes[0].set_ylabel(\"# of skills\")\n",
    "axes[0].set_xlabel(\"Year\")\n",
    "axes[0].set_xticks([2019, 2020, 2021, 2022, 2023])\n",
    "axes[1].set_title(\"Std of Salaries\")\n",
    "axes[1].set_ylabel(\"# of skills\")\n",
    "axes[1].set_xlabel(\"Year\")\n",
    "axes[1].set_xticks([2019, 2020, 2021, 2022, 2023])\n",
    "\n",
    "plt.legend(loc=\"best\")\n",
    "plt.show()\n",
    "skill_groups"
   ]
  },
  {
   "cell_type": "code",
   "execution_count": null,
   "id": "c8a2a1f4-8187-4efb-9e41-3171226845a0",
   "metadata": {},
   "outputs": [],
   "source": []
  },
  {
   "cell_type": "markdown",
   "id": "8c089df2-f084-4d42-bfed-1609b157e2e8",
   "metadata": {},
   "source": [
    "### When we break down the data by deltas per year, what do we see?\n",
    "- Percentage vs absolute?\n",
    "- Number of degrees and number of experience levels?\n",
    "- Salaries increasing or decreasing?"
   ]
  },
  {
   "cell_type": "code",
   "execution_count": null,
   "id": "089053e0-b835-428a-9f9d-03d5cfc5c529",
   "metadata": {},
   "outputs": [],
   "source": []
  },
  {
   "cell_type": "markdown",
   "id": "beacca4d-9626-45b1-b984-38bb1a581aa3",
   "metadata": {},
   "source": [
    "## Charts"
   ]
  },
  {
   "cell_type": "markdown",
   "id": "fe034f39-75a4-44f7-b4bb-9e26499790d8",
   "metadata": {},
   "source": [
    "### Choropleth Chart on Salary by Location (need)"
   ]
  },
  {
   "cell_type": "code",
   "execution_count": null,
   "id": "0f2dda1b-3619-40ae-93c9-40f0aa0cc65a",
   "metadata": {},
   "outputs": [],
   "source": []
  },
  {
   "cell_type": "markdown",
   "id": "56666167-438b-4ed8-96f9-17c14a7faa3f",
   "metadata": {},
   "source": [
    "### Line Chart of Salary by Location (need)"
   ]
  },
  {
   "cell_type": "code",
   "execution_count": null,
   "id": "9a3163f2-78a1-4350-b853-ecbfd45db2f9",
   "metadata": {},
   "outputs": [],
   "source": []
  },
  {
   "cell_type": "markdown",
   "id": "04d25be7-be5b-4181-9fbe-066671fc28c9",
   "metadata": {},
   "source": [
    "### Blox Plot of a Country to Show Skew if Any (need)"
   ]
  },
  {
   "cell_type": "code",
   "execution_count": null,
   "id": "c49fa54e-1078-47f0-b8b7-0592e72e0a60",
   "metadata": {},
   "outputs": [],
   "source": []
  },
  {
   "cell_type": "markdown",
   "id": "42949cf8-8fd8-471f-baa7-2b4cb422df1f",
   "metadata": {},
   "source": [
    "### Histogram of Countries with Highest Response Rates (need)"
   ]
  },
  {
   "cell_type": "code",
   "execution_count": null,
   "id": "78dcc478-7849-42eb-bbfa-78b350e47b85",
   "metadata": {},
   "outputs": [],
   "source": []
  },
  {
   "cell_type": "markdown",
   "id": "199a4326-9392-462f-a1da-16c13a2a3f8b",
   "metadata": {},
   "source": [
    "### Sunburst Plot (want)"
   ]
  },
  {
   "cell_type": "code",
   "execution_count": null,
   "id": "7c245f47-9304-49ac-8ed7-d82a29766b72",
   "metadata": {},
   "outputs": [],
   "source": []
  }
 ],
 "metadata": {
  "kernelspec": {
   "display_name": "Python 3 (ipykernel)",
   "language": "python",
   "name": "python3"
  },
  "language_info": {
   "codemirror_mode": {
    "name": "ipython",
    "version": 3
   },
   "file_extension": ".py",
   "mimetype": "text/x-python",
   "name": "python",
   "nbconvert_exporter": "python",
   "pygments_lexer": "ipython3",
   "version": "3.11.7"
  }
 },
 "nbformat": 4,
 "nbformat_minor": 5
}
