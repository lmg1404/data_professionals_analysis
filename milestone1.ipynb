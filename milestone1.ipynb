{
 "cells": [
  {
   "cell_type": "code",
   "execution_count": 5,
   "id": "f55912e4-edcc-4792-b84f-f9a39975ae61",
   "metadata": {},
   "outputs": [],
   "source": [
    "import pandas as pd\n",
    "pd.set_option('display.max_columns', 500)\n",
    "import os"
   ]
  },
  {
   "cell_type": "code",
   "execution_count": 25,
   "id": "059736ef-2164-4596-98e8-f365110949d1",
   "metadata": {},
   "outputs": [
    {
     "data": {
      "text/plain": [
       "['salaries.csv',\n",
       " 'survey_results_public_2019.csv',\n",
       " 'survey_results_public_2020.csv',\n",
       " 'survey_results_public_2021.csv',\n",
       " 'survey_results_public_2022.csv',\n",
       " 'survey_results_public_2023.csv']"
      ]
     },
     "execution_count": 25,
     "metadata": {},
     "output_type": "execute_result"
    }
   ],
   "source": [
    "stack_overflow_files = (os.listdir(\"data/\"))\n",
    "# not worth going from 2011-2014. No data scientists.\n",
    "# ok, so decision to do (2019 maybe) 2020-2023 for analysis\n",
    "\n",
    "# these are the common columns from 2019-2023\n",
    "common_cols = [\n",
    "    'Age',\n",
    " 'CompTotal',\n",
    " 'Country',\n",
    " 'DevType',\n",
    " 'EdLevel',\n",
    " 'Employment',\n",
    " 'MainBranch',\n",
    " 'OrgSize',\n",
    " 'SOAccount',\n",
    " 'SOComm',\n",
    " 'SOPartFreq',\n",
    " 'SOVisitFreq',\n",
    " 'SurveyEase',\n",
    " 'SurveyLength',\n",
    " 'Year',\n",
    " 'YearsCode',\n",
    " 'YearsCodePro'\n",
    "]\n",
    "\n",
    "# salary cols to show salary trends\n",
    "salary_cols = [\n",
    "    'LanguageWorkedWith', \n",
    "]\n",
    "\n",
    "# show skill trends between the years\n",
    "skills_cols = [\n",
    "    \n",
    "]\n",
    "\n",
    "stack_overflow_files"
   ]
  },
  {
   "cell_type": "code",
   "execution_count": 11,
   "id": "2bc78690-1b3b-440f-8281-2ebc4fe0ff9f",
   "metadata": {},
   "outputs": [],
   "source": [
    "# # this is all testing for the below function\n",
    "# df_2023 = pd.read_csv(f\"data/{stack_overflow_files[-1]}\", encoding='ISO-8859-1')\n",
    "# # df_2023.columns\n",
    "# df_2023.dropna(inplace=True, subset=[\"DevType\", \"ConvertedCompYearly\"])\n",
    "# df_data_2023 = df_2023[df_2023[\"DevType\"].str.contains(\"data\", case=False)]\n",
    "\n",
    "# df_2022 = pd.read_csv(f\"data/{stack_overflow_files[-2]}\", encoding='ISO-8859-1')\n",
    "# # df_2022.columns\n",
    "# df_2022.dropna(inplace=True, subset=[\"DevType\", \"ConvertedCompYearly\"])\n",
    "# df_data_2022 = df_2022[df_2022[\"DevType\"].str.contains(\"data\", case=False)]\n",
    "\n",
    "# df_2021 = pd.read_csv(f\"data/{stack_overflow_files[-3]}\", encoding='ISO-8859-1')\n",
    "# # df_2021.columns\n",
    "# df_2021.dropna(inplace=True, subset=[\"DevType\", \"ConvertedCompYearly\"])\n",
    "# # df_2021[\"DevType\"].value_counts()\n",
    "# df_data_2021 = df_2021[df_2021[\"DevType\"].str.contains(\"data\", case=False)]\n",
    "\n",
    "# df_2020 = pd.read_csv(f\"data/{stack_overflow_files[-4]}\", encoding='ISO-8859-1')\n",
    "# df_2020.dropna(inplace=True, subset=[\"DevType\", \"ConvertedComp\"])\n",
    "# # df_2020[\"DevType\"].value_counts()\n",
    "# df_data_2020 = df_2020[df_2020[\"DevType\"].str.contains(\"data\", case=False)]\n",
    "\n",
    "# df_2019 = pd.read_csv(f\"data/{stack_overflow_files[-5]}\", encoding='ISO-8859-1')\n",
    "# # df_2019.columns\n",
    "# df_2019.dropna(inplace=True, subset=[\"DevType\", \"ConvertedComp\"])\n",
    "# # df_2019[\"DevType\"].value_counts()\n",
    "# df_data_2019 = df_2019[df_2019[\"DevType\"].str.contains(\"data\", case=False)]"
   ]
  },
  {
   "cell_type": "code",
   "execution_count": 12,
   "id": "10e6e980-8b30-4feb-872e-64cceaa62a75",
   "metadata": {},
   "outputs": [],
   "source": [
    "def read_stackoverflow_csvs() -> dict:\n",
    "    \"\"\"\n",
    "    Reads CSVs and gets the numbe of data professionals. Any empty values are dropped from job title and \n",
    "    salary so we will always have data. Other columns may have nans.\n",
    "    Data Manipulation:\n",
    "    - dropping nans from salary and devtype combined\n",
    "    - Changing the salary column to ConvertedCompYearly so we can merge all data frames comes time\n",
    "    - Converting specific columns that mean the same thing per year into a singular name\n",
    "    \"\"\"\n",
    "    frames = {}\n",
    "    stack_o_files = os.listdir(\"data/\")\n",
    "    for file in stack_o_files[1:]:\n",
    "        year = file[-8:-4]\n",
    "        df = pd.read_csv(f\"data/{file}\", encoding='ISO-8859-1')\n",
    "\n",
    "        # standardize compensation columns\n",
    "        if 'ConvertedComp' in df.columns:\n",
    "            df = df.rename(columns={'ConvertedComp': 'ConvertedCompYearly'})\n",
    "\n",
    "        # standardize some columns\n",
    "        standard = [\"Language\", \"Database\", \"Platform\", \"WebFrame\", \"MiscTech\"]\n",
    "        for stan in standard:\n",
    "            if f\"{stan}WorkedWith\" in df.columns:\n",
    "                df = df.rename(columns={f'{stan}WorkedWith': f'{stan}HaveWorkedWith', f'{stan}DesireNextYear':f'{stan}WantToWorkWith'})\n",
    "\n",
    "        # long, bad version of the above\n",
    "        # if \"LanguageWorkedWith\" in df.columns:\n",
    "        #     df = df.rename(columns={'LanguageWorkedWith': 'LanguageHaveWorkedWith', 'LanguageDesireNextYear':'LanguageWantToWorkWith'})\n",
    "\n",
    "        # if \"DatabaseWorkedWith\" in df.columns:\n",
    "        #     df = df.rename(columns={'DatabaseWorkedWith': 'DatabaseHaveWorkedWith', 'DatabaseDesireNextYear':'DatabaseWantToWorkWith'})\n",
    "\n",
    "        # if \"PlatformWorkedWith\" in df.columns:\n",
    "        #     df = df.rename(columns={'PlatformWorkedWith': 'PlatformHaveWorkedWith', 'PlatformDesireNextYear':'PlatformWantToWorkWith'})\n",
    "\n",
    "        # if \"WebFrameWorkedWith\" in df.columns:\n",
    "        #     df = df.rename(columns={'WebFrameWorkedWith': 'WebFrameHaveWorkedWith', 'WebFrameDesireNextYear':'WebFrameWantToWorkWith'})\n",
    "\n",
    "        # if \"MiscTechWorkedWith\" in df.columns:\n",
    "        #     df = df.rename(columns={'MiscTechWorkedWith': 'MiscTechHaveWorkedWith', 'MiscTechDesireNextYear':'MiscTechWantToWorkWith'})\n",
    "        \n",
    "        df = df.dropna(subset=[\"DevType\", \"ConvertedCompYearly\"])\n",
    "        df = df[df[\"DevType\"].str.contains(\"data\", case=False)]\n",
    "        df[\"Year\"] = [year] * len(df)\n",
    "        frames[f\"df_data_{year}\"] = df\n",
    "    return frames"
   ]
  },
  {
   "cell_type": "code",
   "execution_count": 13,
   "id": "a00a0790-540f-4d87-8677-9a8c762defa5",
   "metadata": {},
   "outputs": [],
   "source": [
    "frames_dict = read_stackoverflow_csvs()"
   ]
  },
  {
   "cell_type": "code",
   "execution_count": 24,
   "id": "44403370-fb7b-4679-ac9b-856cf16b4db8",
   "metadata": {},
   "outputs": [
    {
     "name": "stdout",
     "output_type": "stream",
     "text": [
      "df_data_2019\t13393\t['WorkRemote']\n",
      "df_data_2020\t8294\t[]\n",
      "df_data_2021\t9272\t[]\n",
      "df_data_2022\t6921\t['RemoteWork']\n",
      "df_data_2023\t2480\t['RemoteWork']\n"
     ]
    }
   ],
   "source": [
    "# this is the number of entries we are working with in our frames\n",
    "# seeing how to standardize the columns some more\n",
    "\n",
    "query = \"Remote\"\n",
    "for key, frame in frames_dict.items():\n",
    "    lang = []\n",
    "    for col in frame.columns:\n",
    "        lang.append(col) if query in col else None\n",
    "    print(f\"{key}\\t{len(frame)}\\t{lang}\")"
   ]
  },
  {
   "cell_type": "code",
   "execution_count": 15,
   "id": "c8b6973f-16be-4d0e-a9a2-543078294b03",
   "metadata": {},
   "outputs": [
    {
     "name": "stdout",
     "output_type": "stream",
     "text": [
      "Index(['Respondent', 'MainBranch', 'Hobbyist', 'OpenSourcer', 'OpenSource',\n",
      "       'Employment', 'Country', 'Student', 'EdLevel', 'UndergradMajor',\n",
      "       'EduOther', 'OrgSize', 'DevType', 'YearsCode', 'Age1stCode',\n",
      "       'YearsCodePro', 'CareerSat', 'JobSat', 'MgrIdiot', 'MgrMoney',\n",
      "       'MgrWant', 'JobSeek', 'LastHireDate', 'LastInt', 'FizzBuzz',\n",
      "       'JobFactors', 'ResumeUpdate', 'CurrencySymbol', 'CurrencyDesc',\n",
      "       'CompTotal', 'CompFreq', 'ConvertedCompYearly', 'WorkWeekHrs',\n",
      "       'WorkPlan', 'WorkChallenge', 'WorkRemote', 'WorkLoc', 'ImpSyn',\n",
      "       'CodeRev', 'CodeRevHrs', 'UnitTests', 'PurchaseHow', 'PurchaseWhat',\n",
      "       'LanguageHaveWorkedWith', 'LanguageWantToWorkWith',\n",
      "       'DatabaseHaveWorkedWith', 'DatabaseWantToWorkWith',\n",
      "       'PlatformHaveWorkedWith', 'PlatformWantToWorkWith',\n",
      "       'WebFrameHaveWorkedWith', 'WebFrameWantToWorkWith',\n",
      "       'MiscTechHaveWorkedWith', 'MiscTechWantToWorkWith', 'DevEnviron',\n",
      "       'OpSys', 'Containers', 'BlockchainOrg', 'BlockchainIs', 'BetterLife',\n",
      "       'ITperson', 'OffOn', 'SocialMedia', 'Extraversion', 'ScreenName',\n",
      "       'SOVisit1st', 'SOVisitFreq', 'SOVisitTo', 'SOFindAnswer', 'SOTimeSaved',\n",
      "       'SOHowMuchTime', 'SOAccount', 'SOPartFreq', 'SOJobs', 'EntTeams',\n",
      "       'SOComm', 'WelcomeChange', 'SONewContent', 'Age', 'Gender', 'Trans',\n",
      "       'Sexuality', 'Ethnicity', 'Dependents', 'SurveyLength', 'SurveyEase',\n",
      "       'Year'],\n",
      "      dtype='object')\n"
     ]
    }
   ],
   "source": [
    "print(frames_dict[\"df_data_2019\"].columns)"
   ]
  },
  {
   "cell_type": "code",
   "execution_count": 16,
   "id": "89e54b52-86b0-4468-a526-33b7dabc5db0",
   "metadata": {},
   "outputs": [
    {
     "name": "stdout",
     "output_type": "stream",
     "text": [
      "Index(['Respondent', 'MainBranch', 'Hobbyist', 'Age', 'Age1stCode', 'CompFreq',\n",
      "       'CompTotal', 'ConvertedCompYearly', 'Country', 'CurrencyDesc',\n",
      "       'CurrencySymbol', 'DatabaseWantToWorkWith', 'DatabaseHaveWorkedWith',\n",
      "       'DevType', 'EdLevel', 'Employment', 'Ethnicity', 'Gender', 'JobFactors',\n",
      "       'JobSat', 'JobSeek', 'LanguageWantToWorkWith', 'LanguageHaveWorkedWith',\n",
      "       'MiscTechWantToWorkWith', 'MiscTechHaveWorkedWith',\n",
      "       'NEWCollabToolsDesireNextYear', 'NEWCollabToolsWorkedWith', 'NEWDevOps',\n",
      "       'NEWDevOpsImpt', 'NEWEdImpt', 'NEWJobHunt', 'NEWJobHuntResearch',\n",
      "       'NEWLearn', 'NEWOffTopic', 'NEWOnboardGood', 'NEWOtherComms',\n",
      "       'NEWOvertime', 'NEWPurchaseResearch', 'NEWPurpleLink', 'NEWSOSites',\n",
      "       'NEWStuck', 'OpSys', 'OrgSize', 'PlatformWantToWorkWith',\n",
      "       'PlatformHaveWorkedWith', 'PurchaseWhat', 'Sexuality', 'SOAccount',\n",
      "       'SOComm', 'SOPartFreq', 'SOVisitFreq', 'SurveyEase', 'SurveyLength',\n",
      "       'Trans', 'UndergradMajor', 'WebframeDesireNextYear',\n",
      "       'WebframeWorkedWith', 'WelcomeChange', 'WorkWeekHrs', 'YearsCode',\n",
      "       'YearsCodePro', 'Year'],\n",
      "      dtype='object')\n"
     ]
    }
   ],
   "source": [
    "print(frames_dict[\"df_data_2020\"].columns)"
   ]
  },
  {
   "cell_type": "code",
   "execution_count": 17,
   "id": "5382c8f8-589e-4817-8762-56ae2368768c",
   "metadata": {},
   "outputs": [
    {
     "name": "stdout",
     "output_type": "stream",
     "text": [
      "Index(['ResponseId', 'MainBranch', 'Employment', 'Country', 'US_State',\n",
      "       'UK_Country', 'EdLevel', 'Age1stCode', 'LearnCode', 'YearsCode',\n",
      "       'YearsCodePro', 'DevType', 'OrgSize', 'Currency', 'CompTotal',\n",
      "       'CompFreq', 'LanguageHaveWorkedWith', 'LanguageWantToWorkWith',\n",
      "       'DatabaseHaveWorkedWith', 'DatabaseWantToWorkWith',\n",
      "       'PlatformHaveWorkedWith', 'PlatformWantToWorkWith',\n",
      "       'WebframeHaveWorkedWith', 'WebframeWantToWorkWith',\n",
      "       'MiscTechHaveWorkedWith', 'MiscTechWantToWorkWith',\n",
      "       'ToolsTechHaveWorkedWith', 'ToolsTechWantToWorkWith',\n",
      "       'NEWCollabToolsHaveWorkedWith', 'NEWCollabToolsWantToWorkWith', 'OpSys',\n",
      "       'NEWStuck', 'NEWSOSites', 'SOVisitFreq', 'SOAccount', 'SOPartFreq',\n",
      "       'SOComm', 'NEWOtherComms', 'Age', 'Gender', 'Trans', 'Sexuality',\n",
      "       'Ethnicity', 'Accessibility', 'MentalHealth', 'SurveyLength',\n",
      "       'SurveyEase', 'ConvertedCompYearly', 'Year'],\n",
      "      dtype='object')\n"
     ]
    }
   ],
   "source": [
    "print(frames_dict[\"df_data_2021\"].columns)"
   ]
  },
  {
   "cell_type": "code",
   "execution_count": 18,
   "id": "e954c060-4e0c-47b6-b32f-fd206ad8ab9d",
   "metadata": {},
   "outputs": [
    {
     "name": "stdout",
     "output_type": "stream",
     "text": [
      "Index(['ResponseId', 'MainBranch', 'Employment', 'RemoteWork',\n",
      "       'CodingActivities', 'EdLevel', 'LearnCode', 'LearnCodeOnline',\n",
      "       'LearnCodeCoursesCert', 'YearsCode', 'YearsCodePro', 'DevType',\n",
      "       'OrgSize', 'PurchaseInfluence', 'BuyNewTool', 'Country', 'Currency',\n",
      "       'CompTotal', 'CompFreq', 'LanguageHaveWorkedWith',\n",
      "       'LanguageWantToWorkWith', 'DatabaseHaveWorkedWith',\n",
      "       'DatabaseWantToWorkWith', 'PlatformHaveWorkedWith',\n",
      "       'PlatformWantToWorkWith', 'WebframeHaveWorkedWith',\n",
      "       'WebframeWantToWorkWith', 'MiscTechHaveWorkedWith',\n",
      "       'MiscTechWantToWorkWith', 'ToolsTechHaveWorkedWith',\n",
      "       'ToolsTechWantToWorkWith', 'NEWCollabToolsHaveWorkedWith',\n",
      "       'NEWCollabToolsWantToWorkWith', 'OpSysProfessional use',\n",
      "       'OpSysPersonal use', 'VersionControlSystem', 'VCInteraction',\n",
      "       'VCHostingPersonal use', 'VCHostingProfessional use',\n",
      "       'OfficeStackAsyncHaveWorkedWith', 'OfficeStackAsyncWantToWorkWith',\n",
      "       'OfficeStackSyncHaveWorkedWith', 'OfficeStackSyncWantToWorkWith',\n",
      "       'Blockchain', 'NEWSOSites', 'SOVisitFreq', 'SOAccount', 'SOPartFreq',\n",
      "       'SOComm', 'Age', 'Gender', 'Trans', 'Sexuality', 'Ethnicity',\n",
      "       'Accessibility', 'MentalHealth', 'TBranch', 'ICorPM', 'WorkExp',\n",
      "       'Knowledge_1', 'Knowledge_2', 'Knowledge_3', 'Knowledge_4',\n",
      "       'Knowledge_5', 'Knowledge_6', 'Knowledge_7', 'Frequency_1',\n",
      "       'Frequency_2', 'Frequency_3', 'TimeSearching', 'TimeAnswering',\n",
      "       'Onboarding', 'ProfessionalTech', 'TrueFalse_1', 'TrueFalse_2',\n",
      "       'TrueFalse_3', 'SurveyLength', 'SurveyEase', 'ConvertedCompYearly',\n",
      "       'Year'],\n",
      "      dtype='object')\n"
     ]
    }
   ],
   "source": [
    "print(frames_dict[\"df_data_2022\"].columns)"
   ]
  },
  {
   "cell_type": "code",
   "execution_count": 23,
   "id": "47802c31-8420-41b5-8c3b-870494d64683",
   "metadata": {},
   "outputs": [
    {
     "name": "stdout",
     "output_type": "stream",
     "text": [
      "Index(['ResponseId', 'Q120', 'MainBranch', 'Age', 'Employment', 'RemoteWork',\n",
      "       'CodingActivities', 'EdLevel', 'LearnCode', 'LearnCodeOnline',\n",
      "       'LearnCodeCoursesCert', 'YearsCode', 'YearsCodePro', 'DevType',\n",
      "       'OrgSize', 'PurchaseInfluence', 'TechList', 'BuyNewTool', 'Country',\n",
      "       'Currency', 'CompTotal', 'LanguageHaveWorkedWith',\n",
      "       'LanguageWantToWorkWith', 'DatabaseHaveWorkedWith',\n",
      "       'DatabaseWantToWorkWith', 'PlatformHaveWorkedWith',\n",
      "       'PlatformWantToWorkWith', 'WebframeHaveWorkedWith',\n",
      "       'WebframeWantToWorkWith', 'MiscTechHaveWorkedWith',\n",
      "       'MiscTechWantToWorkWith', 'ToolsTechHaveWorkedWith',\n",
      "       'ToolsTechWantToWorkWith', 'NEWCollabToolsHaveWorkedWith',\n",
      "       'NEWCollabToolsWantToWorkWith', 'OpSysPersonal use',\n",
      "       'OpSysProfessional use', 'OfficeStackAsyncHaveWorkedWith',\n",
      "       'OfficeStackAsyncWantToWorkWith', 'OfficeStackSyncHaveWorkedWith',\n",
      "       'OfficeStackSyncWantToWorkWith', 'AISearchHaveWorkedWith',\n",
      "       'AISearchWantToWorkWith', 'AIDevHaveWorkedWith', 'AIDevWantToWorkWith',\n",
      "       'NEWSOSites', 'SOVisitFreq', 'SOAccount', 'SOPartFreq', 'SOComm',\n",
      "       'SOAI', 'AISelect', 'AISent', 'AIAcc', 'AIBen',\n",
      "       'AIToolInterested in Using', 'AIToolCurrently Using',\n",
      "       'AIToolNot interested in Using', 'AINextVery different',\n",
      "       'AINextNeither different nor similar', 'AINextSomewhat similar',\n",
      "       'AINextVery similar', 'AINextSomewhat different', 'TBranch', 'ICorPM',\n",
      "       'WorkExp', 'Knowledge_1', 'Knowledge_2', 'Knowledge_3', 'Knowledge_4',\n",
      "       'Knowledge_5', 'Knowledge_6', 'Knowledge_7', 'Knowledge_8',\n",
      "       'Frequency_1', 'Frequency_2', 'Frequency_3', 'TimeSearching',\n",
      "       'TimeAnswering', 'ProfessionalTech', 'Industry', 'SurveyLength',\n",
      "       'SurveyEase', 'ConvertedCompYearly', 'Year'],\n",
      "      dtype='object')\n"
     ]
    }
   ],
   "source": [
    "print(frames_dict[\"df_data_2023\"].columns)"
   ]
  },
  {
   "cell_type": "code",
   "execution_count": 19,
   "id": "273a278b-e4c9-4ee9-8ad2-588f9757d841",
   "metadata": {},
   "outputs": [],
   "source": [
    "# do they have similar columns?\n",
    "def find_similar_col(frames):\n",
    "    union = []\n",
    "    for key, frame in frames.items():\n",
    "        union.append(set(frame.columns))\n",
    "        \n",
    "    standard = union[0]\n",
    "    for cols in union[1:]:\n",
    "        standard = standard.intersection(cols)\n",
    "    return standard"
   ]
  },
  {
   "cell_type": "code",
   "execution_count": 20,
   "id": "9190d38b-305e-4a31-b939-4f9395cc4e91",
   "metadata": {},
   "outputs": [
    {
     "data": {
      "text/plain": [
       "{'Age',\n",
       " 'CompTotal',\n",
       " 'ConvertedCompYearly',\n",
       " 'Country',\n",
       " 'DatabaseHaveWorkedWith',\n",
       " 'DatabaseWantToWorkWith',\n",
       " 'DevType',\n",
       " 'EdLevel',\n",
       " 'Employment',\n",
       " 'LanguageHaveWorkedWith',\n",
       " 'LanguageWantToWorkWith',\n",
       " 'MainBranch',\n",
       " 'MiscTechHaveWorkedWith',\n",
       " 'MiscTechWantToWorkWith',\n",
       " 'OrgSize',\n",
       " 'PlatformHaveWorkedWith',\n",
       " 'PlatformWantToWorkWith',\n",
       " 'SOAccount',\n",
       " 'SOComm',\n",
       " 'SOPartFreq',\n",
       " 'SOVisitFreq',\n",
       " 'SurveyEase',\n",
       " 'SurveyLength',\n",
       " 'Year',\n",
       " 'YearsCode',\n",
       " 'YearsCodePro'}"
      ]
     },
     "execution_count": 20,
     "metadata": {},
     "output_type": "execute_result"
    }
   ],
   "source": [
    "find_similar_col(frames_dict)"
   ]
  },
  {
   "cell_type": "code",
   "execution_count": 90,
   "id": "add4430f-be36-47eb-aed9-ff0b9a619e9d",
   "metadata": {},
   "outputs": [
    {
     "name": "stdout",
     "output_type": "stream",
     "text": [
      "df_data_2019: 83\n",
      "    max: United States\n",
      "    min: Andorra\n",
      "df_data_2020: 69\n",
      "    max: United States\n",
      "    min: Andorra\n",
      "df_data_2021: 70\n",
      "    max: United States of America\n",
      "    min: Andorra\n",
      "df_data_2022: 63\n",
      "    max: United States of America\n",
      "    min: Algeria\n",
      "df_data_2023: 36\n",
      "    max: United States of America\n",
      "    min: Albania\n"
     ]
    }
   ],
   "source": [
    "# play around with the number and see if this is the spread that we want\n",
    "for key, frame in frames_dict.items():\n",
    "    grouped = (frame.groupby(\"Country\").count())\n",
    "    length = len(grouped[grouped[\"MainBranch\"] > 10])\n",
    "    print(f\"\"\"{key}: {length}\n",
    "    max: {grouped['MainBranch'].idxmax()}\n",
    "    min: {grouped['MainBranch'].idxmin()}\"\"\")"
   ]
  },
  {
   "cell_type": "code",
   "execution_count": 28,
   "id": "2575d8ed-d7c2-4f2d-bce2-9782aa7b1d67",
   "metadata": {},
   "outputs": [
    {
     "name": "stdout",
     "output_type": "stream",
     "text": [
      "anyio @ file:///C:/ci_311/anyio_1676425491996/work/dist\n",
      "argon2-cffi @ file:///opt/conda/conda-bld/argon2-cffi_1645000214183/work\n",
      "argon2-cffi-bindings @ file:///C:/ci_311/argon2-cffi-bindings_1676424443321/work\n",
      "asttokens @ file:///opt/conda/conda-bld/asttokens_1646925590279/work\n",
      "async-lru @ file:///C:/b/abs_e0hjkvwwb5/croot/async-lru_1699554572212/work\n",
      "attrs @ file:///C:/b/abs_35n0jusce8/croot/attrs_1695717880170/work\n",
      "Babel @ file:///C:/ci_311/babel_1676427169844/work\n",
      "beautifulsoup4 @ file:///C:/b/abs_0agyz1wsr4/croot/beautifulsoup4-split_1681493048687/work\n",
      "bleach @ file:///opt/conda/conda-bld/bleach_1641577558959/work\n",
      "Bottleneck @ file:///C:/ci_311/bottleneck_1676500016583/work\n",
      "Brotli @ file:///C:/ci_311/brotli-split_1676435766766/work\n",
      "certifi @ file:///C:/b/abs_91u83siphd/croot/certifi_1700501720658/work/certifi\n",
      "cffi @ file:///C:/b/abs_924gv1kxzj/croot/cffi_1700254355075/work\n",
      "charset-normalizer @ file:///tmp/build/80754af9/charset-normalizer_1630003229654/work\n",
      "colorama @ file:///C:/ci_311/colorama_1676422310965/work\n",
      "comm @ file:///C:/ci_311/comm_1678376562840/work\n",
      "contourpy @ file:///C:/b/abs_853rfy8zse/croot/contourpy_1700583617587/work\n",
      "cryptography @ file:///C:/b/abs_e8cnom_zw_/croot/cryptography_1702071486468/work\n",
      "cycler @ file:///tmp/build/80754af9/cycler_1637851556182/work\n",
      "debugpy @ file:///C:/b/abs_c0y1fjipt2/croot/debugpy_1690906864587/work\n",
      "decorator @ file:///opt/conda/conda-bld/decorator_1643638310831/work\n",
      "defusedxml @ file:///tmp/build/80754af9/defusedxml_1615228127516/work\n",
      "executing @ file:///opt/conda/conda-bld/executing_1646925071911/work\n",
      "fastjsonschema @ file:///C:/ci_311/python-fastjsonschema_1679500568724/work\n",
      "fonttools==4.25.0\n",
      "idna @ file:///C:/ci_311/idna_1676424932545/work\n",
      "ipykernel @ file:///C:/b/abs_07rkft_vaz/croot/ipykernel_1691121700587/work\n",
      "ipython @ file:///C:/b/abs_b6pfgmrqnd/croot/ipython_1704833422163/work\n",
      "ipywidgets @ file:///C:/b/abs_5awapknmz_/croot/ipywidgets_1679394824767/work\n",
      "jedi @ file:///C:/ci_311/jedi_1679427407646/work\n",
      "Jinja2 @ file:///C:/ci_311/jinja2_1676424968965/work\n",
      "json5 @ file:///tmp/build/80754af9/json5_1624432770122/work\n",
      "jsonschema @ file:///C:/b/abs_d1c4sm8drk/croot/jsonschema_1699041668863/work\n",
      "jsonschema-specifications @ file:///C:/b/abs_0brvm6vryw/croot/jsonschema-specifications_1699032417323/work\n",
      "jupyter @ file:///C:/ci_311/jupyter_1678249952587/work\n",
      "jupyter-console @ file:///C:/b/abs_82xaa6i2y4/croot/jupyter_console_1680000189372/work\n",
      "jupyter-events @ file:///C:/b/abs_17ajfqnlz0/croot/jupyter_events_1699282519713/work\n",
      "jupyter-lsp @ file:///C:/b/abs_ecle3em9d4/croot/jupyter-lsp-meta_1699978291372/work\n",
      "jupyter_client @ file:///C:/b/abs_a6h3c8hfdq/croot/jupyter_client_1699455939372/work\n",
      "jupyter_core @ file:///C:/b/abs_c769pbqg9b/croot/jupyter_core_1698937367513/work\n",
      "jupyter_server @ file:///C:/b/abs_7esjvdakg9/croot/jupyter_server_1699466495151/work\n",
      "jupyter_server_terminals @ file:///C:/b/abs_ec0dq4b50j/croot/jupyter_server_terminals_1686870763512/work\n",
      "jupyterlab @ file:///C:/b/abs_aergn8zopq/croot/jupyterlab_1700518316761/work\n",
      "jupyterlab-pygments @ file:///tmp/build/80754af9/jupyterlab_pygments_1601490720602/work\n",
      "jupyterlab-widgets @ file:///C:/b/abs_adrrqr26no/croot/jupyterlab_widgets_1700169018974/work\n",
      "jupyterlab_server @ file:///C:/b/abs_e08i7qn9m8/croot/jupyterlab_server_1699555481806/work\n",
      "kiwisolver @ file:///C:/ci_311/kiwisolver_1676431979301/work\n",
      "MarkupSafe @ file:///C:/b/abs_ecfdqh67b_/croot/markupsafe_1704206030535/work\n",
      "matplotlib @ file:///C:/b/abs_e26vnvd5s1/croot/matplotlib-suite_1698692153288/work\n",
      "matplotlib-inline @ file:///C:/ci_311/matplotlib-inline_1676425798036/work\n",
      "mistune @ file:///C:/ci_311/mistune_1676425111783/work\n",
      "mkl-fft @ file:///C:/b/abs_19i1y8ykas/croot/mkl_fft_1695058226480/work\n",
      "mkl-random @ file:///C:/b/abs_edwkj1_o69/croot/mkl_random_1695059866750/work\n",
      "mkl-service==2.4.0\n",
      "munkres==1.1.4\n",
      "nbclient @ file:///C:/b/abs_cal0q5fyju/croot/nbclient_1698934263135/work\n",
      "nbconvert @ file:///C:/b/abs_17p29f_rx4/croot/nbconvert_1699022793097/work\n",
      "nbformat @ file:///C:/b/abs_5a2nea1iu2/croot/nbformat_1694616866197/work\n",
      "nest-asyncio @ file:///C:/ci_311/nest-asyncio_1676423519896/work\n",
      "notebook @ file:///C:/b/abs_26737osg4x/croot/notebook_1700582146311/work\n",
      "notebook_shim @ file:///C:/b/abs_a5xysln3lb/croot/notebook-shim_1699455926920/work\n",
      "numexpr @ file:///C:/b/abs_5fucrty5dc/croot/numexpr_1696515448831/work\n",
      "numpy @ file:///C:/b/abs_16b2j7ad8n/croot/numpy_and_numpy_base_1704311752418/work/dist/numpy-1.26.3-cp311-cp311-win_amd64.whl#sha256=5f2c4b54fd5d52b9fb18e32607c79b03cf14665cecce8a5a10e2950559df4651\n",
      "overrides @ file:///C:/b/abs_cfh89c8yf4/croot/overrides_1699371165349/work\n",
      "packaging @ file:///C:/b/abs_28t5mcoltc/croot/packaging_1693575224052/work\n",
      "pandas @ file:///C:/b/abs_fej9bi0gew/croot/pandas_1702318041921/work/dist/pandas-2.1.4-cp311-cp311-win_amd64.whl#sha256=d3609b7cc3e3c4d99ad640a4b8e710ba93ccf967ab8e5245b91033e0200f9286\n",
      "pandocfilters @ file:///opt/conda/conda-bld/pandocfilters_1643405455980/work\n",
      "parso @ file:///opt/conda/conda-bld/parso_1641458642106/work\n",
      "Pillow @ file:///C:/b/abs_20ztcm8lgk/croot/pillow_1696580089746/work\n",
      "platformdirs @ file:///C:/b/abs_b6z_yqw_ii/croot/platformdirs_1692205479426/work\n",
      "ply==3.11\n",
      "prometheus-client @ file:///C:/ci_311/prometheus_client_1679591942558/work\n",
      "prompt-toolkit @ file:///C:/b/abs_68uwr58ed1/croot/prompt-toolkit_1704404394082/work\n",
      "psutil @ file:///C:/ci_311_rebuilds/psutil_1679005906571/work\n",
      "pure-eval @ file:///opt/conda/conda-bld/pure_eval_1646925070566/work\n",
      "pycparser @ file:///tmp/build/80754af9/pycparser_1636541352034/work\n",
      "Pygments @ file:///C:/b/abs_fay9dpq4n_/croot/pygments_1684279990574/work\n",
      "pyOpenSSL @ file:///C:/b/abs_08f38zyck4/croot/pyopenssl_1690225407403/work\n",
      "pyparsing @ file:///C:/ci_311/pyparsing_1678502182533/work\n",
      "PyQt5==5.15.10\n",
      "PyQt5-sip @ file:///C:/b/abs_c0pi2mimq3/croot/pyqt-split_1698769125270/work/pyqt_sip\n",
      "PySocks @ file:///C:/ci_311/pysocks_1676425991111/work\n",
      "python-dateutil @ file:///tmp/build/80754af9/python-dateutil_1626374649649/work\n",
      "python-json-logger @ file:///C:/b/abs_cblnsm6puj/croot/python-json-logger_1683824130469/work\n",
      "pytz @ file:///C:/b/abs_19q3ljkez4/croot/pytz_1695131651401/work\n",
      "pywin32==305.1\n",
      "pywinpty @ file:///C:/ci_311/pywinpty_1677707791185/work/target/wheels/pywinpty-2.0.10-cp311-none-win_amd64.whl\n",
      "PyYAML @ file:///C:/b/abs_782o3mbw7z/croot/pyyaml_1698096085010/work\n",
      "pyzmq @ file:///C:/b/abs_89aq69t0up/croot/pyzmq_1705605705281/work\n",
      "qtconsole @ file:///C:/b/abs_4awqjtg1ug/croot/qtconsole_1700160696631/work\n",
      "QtPy @ file:///C:/b/abs_derqu__3p8/croot/qtpy_1700144907661/work\n",
      "referencing @ file:///C:/b/abs_09f4hj6adf/croot/referencing_1699012097448/work\n",
      "requests @ file:///C:/b/abs_316c2inijk/croot/requests_1690400295842/work\n",
      "rfc3339-validator @ file:///C:/b/abs_ddfmseb_vm/croot/rfc3339-validator_1683077054906/work\n",
      "rfc3986-validator @ file:///C:/b/abs_6e9azihr8o/croot/rfc3986-validator_1683059049737/work\n",
      "rpds-py @ file:///C:/b/abs_76j4g4la23/croot/rpds-py_1698947348047/work\n",
      "seaborn @ file:///C:/ci_311/seaborn_1676446547861/work\n",
      "Send2Trash @ file:///C:/b/abs_08dh49ew26/croot/send2trash_1699371173324/work\n",
      "sip @ file:///C:/b/abs_edevan3fce/croot/sip_1698675983372/work\n",
      "six @ file:///tmp/build/80754af9/six_1644875935023/work\n",
      "sniffio @ file:///C:/b/abs_3akdewudo_/croot/sniffio_1705431337396/work\n",
      "soupsieve @ file:///C:/b/abs_bbsvy9t4pl/croot/soupsieve_1696347611357/work\n",
      "stack-data @ file:///opt/conda/conda-bld/stack_data_1646927590127/work\n",
      "terminado @ file:///C:/ci_311/terminado_1678228513830/work\n",
      "tinycss2 @ file:///C:/ci_311/tinycss2_1676425376744/work\n",
      "tornado @ file:///C:/b/abs_0cbrstidzg/croot/tornado_1696937003724/work\n",
      "traitlets @ file:///C:/ci_311/traitlets_1676423290727/work\n",
      "typing_extensions @ file:///C:/b/abs_72cdotwc_6/croot/typing_extensions_1705599364138/work\n",
      "tzdata @ file:///croot/python-tzdata_1690578112552/work\n",
      "urllib3 @ file:///C:/b/abs_9cmlsrm3ys/croot/urllib3_1698257595508/work\n",
      "wcwidth @ file:///Users/ktietz/demo/mc3/conda-bld/wcwidth_1629357192024/work\n",
      "webencodings==0.5.1\n",
      "websocket-client @ file:///C:/ci_311/websocket-client_1676426063281/work\n",
      "widgetsnbextension @ file:///C:/b/abs_882k4_4kdf/croot/widgetsnbextension_1679313880295/work\n",
      "win-inet-pton @ file:///C:/ci_311/win_inet_pton_1676425458225/work\n"
     ]
    }
   ],
   "source": [
    "!pip freeze"
   ]
  },
  {
   "cell_type": "code",
   "execution_count": null,
   "id": "5b1e1d0c-5b5d-4f78-a0aa-460668f729f3",
   "metadata": {},
   "outputs": [],
   "source": []
  }
 ],
 "metadata": {
  "kernelspec": {
   "display_name": "Python 3 (ipykernel)",
   "language": "python",
   "name": "python3"
  },
  "language_info": {
   "codemirror_mode": {
    "name": "ipython",
    "version": 3
   },
   "file_extension": ".py",
   "mimetype": "text/x-python",
   "name": "python",
   "nbconvert_exporter": "python",
   "pygments_lexer": "ipython3",
   "version": "3.11.7"
  }
 },
 "nbformat": 4,
 "nbformat_minor": 5
}
