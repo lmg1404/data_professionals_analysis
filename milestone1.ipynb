{
 "cells": [
  {
   "cell_type": "code",
   "execution_count": 1,
   "id": "f55912e4-edcc-4792-b84f-f9a39975ae61",
   "metadata": {},
   "outputs": [],
   "source": [
    "import pandas as pd\n",
    "pd.set_option('display.max_columns', 500)\n",
    "import os"
   ]
  },
  {
   "cell_type": "code",
   "execution_count": 2,
   "id": "059736ef-2164-4596-98e8-f365110949d1",
   "metadata": {},
   "outputs": [
    {
     "data": {
      "text/plain": [
       "['survey_results_public_2019.csv',\n",
       " 'survey_results_public_2020.csv',\n",
       " 'survey_results_public_2021.csv',\n",
       " 'survey_results_public_2022.csv',\n",
       " 'survey_results_public_2023.csv']"
      ]
     },
     "execution_count": 2,
     "metadata": {},
     "output_type": "execute_result"
    }
   ],
   "source": [
    "stack_overflow_files = (os.listdir(\"data/\"))\n",
    "# not worth going from 2011-2014. No data scientists.\n",
    "# ok, so decision to do (2019 maybe) 2020-2023 for analysis\n",
    "\n",
    "# these are the common columns from 2019-2023\n",
    "common_cols = [\n",
    "    'Age',\n",
    " 'CompTotal',\n",
    " 'Country',\n",
    " 'DevType',\n",
    " 'EdLevel',\n",
    " 'Employment',\n",
    " 'MainBranch',\n",
    " 'OrgSize',\n",
    " 'SOAccount',\n",
    " 'SOComm',\n",
    " 'SOPartFreq',\n",
    " 'SOVisitFreq',\n",
    " 'SurveyEase',\n",
    " 'SurveyLength',\n",
    " 'Year',\n",
    " 'YearsCode',\n",
    " 'YearsCodePro'\n",
    "]\n",
    "\n",
    "# salary cols to show salary trends\n",
    "salary_cols = [\n",
    "    'LanguageWorkedWith', \n",
    "]\n",
    "\n",
    "# show skill trends between the years\n",
    "skills_cols = [\n",
    "    \n",
    "]\n",
    "\n",
    "stack_overflow_files"
   ]
  },
  {
   "cell_type": "code",
   "execution_count": 3,
   "id": "2bc78690-1b3b-440f-8281-2ebc4fe0ff9f",
   "metadata": {},
   "outputs": [],
   "source": [
    "# this is all testing for the below function\n",
    "df_2023 = pd.read_csv(f\"data/{stack_overflow_files[-1]}\", encoding='ISO-8859-1')\n",
    "# df_2023.columns\n",
    "df_2023.dropna(inplace=True, subset=[\"DevType\", \"ConvertedCompYearly\"])\n",
    "df_data_2023 = df_2023[df_2023[\"DevType\"].str.contains(\"data\", case=False)]\n",
    "\n",
    "df_2022 = pd.read_csv(f\"data/{stack_overflow_files[-2]}\", encoding='ISO-8859-1')\n",
    "# df_2022.columns\n",
    "df_2022.dropna(inplace=True, subset=[\"DevType\", \"ConvertedCompYearly\"])\n",
    "df_data_2022 = df_2022[df_2022[\"DevType\"].str.contains(\"data\", case=False)]\n",
    "\n",
    "df_2021 = pd.read_csv(f\"data/{stack_overflow_files[-3]}\", encoding='ISO-8859-1')\n",
    "# df_2021.columns\n",
    "df_2021.dropna(inplace=True, subset=[\"DevType\", \"ConvertedCompYearly\"])\n",
    "# df_2021[\"DevType\"].value_counts()\n",
    "df_data_2021 = df_2021[df_2021[\"DevType\"].str.contains(\"data\", case=False)]\n",
    "\n",
    "df_2020 = pd.read_csv(f\"data/{stack_overflow_files[-4]}\", encoding='ISO-8859-1')\n",
    "df_2020.dropna(inplace=True, subset=[\"DevType\", \"ConvertedComp\"])\n",
    "# df_2020[\"DevType\"].value_counts()\n",
    "df_data_2020 = df_2020[df_2020[\"DevType\"].str.contains(\"data\", case=False)]\n",
    "\n",
    "df_2019 = pd.read_csv(f\"data/{stack_overflow_files[-5]}\", encoding='ISO-8859-1')\n",
    "# df_2019.columns\n",
    "df_2019.dropna(inplace=True, subset=[\"DevType\", \"ConvertedComp\"])\n",
    "# df_2019[\"DevType\"].value_counts()\n",
    "df_data_2019 = df_2019[df_2019[\"DevType\"].str.contains(\"data\", case=False)]"
   ]
  },
  {
   "cell_type": "code",
   "execution_count": 16,
   "id": "10e6e980-8b30-4feb-872e-64cceaa62a75",
   "metadata": {},
   "outputs": [],
   "source": [
    "def read_stackoverflow_csvs() -> dict:\n",
    "    frames = {}\n",
    "    stack_o_files = os.listdir(\"data/\")\n",
    "    for file in stack_o_files:\n",
    "        year = file[-8:-4]\n",
    "        df = pd.read_csv(f\"data/{file}\", encoding='ISO-8859-1')\n",
    "        if \"ConvertedCompYearly\" in df.columns:\n",
    "            df.dropna(inplace=True, subset=[\"DevType\", \"ConvertedCompYearly\"])\n",
    "        else:\n",
    "            df.dropna(inplace=True, subset=[\"DevType\", \"ConvertedComp\"])\n",
    "        df = df[df[\"DevType\"].str.contains(\"data\", case=False)]\n",
    "        df[\"Year\"] = [year] * len(df)\n",
    "        frames[f\"df_data_{year}\"] = df\n",
    "    return frames"
   ]
  },
  {
   "cell_type": "code",
   "execution_count": 21,
   "id": "a00a0790-540f-4d87-8677-9a8c762defa5",
   "metadata": {},
   "outputs": [],
   "source": [
    "frames_dict = read_stackoverflow_csvs()"
   ]
  },
  {
   "cell_type": "code",
   "execution_count": 22,
   "id": "44403370-fb7b-4679-ac9b-856cf16b4db8",
   "metadata": {},
   "outputs": [
    {
     "name": "stdout",
     "output_type": "stream",
     "text": [
      "df_data_2019\t13393\n",
      "df_data_2020\t8294\n",
      "df_data_2021\t9272\n",
      "df_data_2022\t6921\n",
      "df_data_2023\t2480\n"
     ]
    }
   ],
   "source": [
    "# this is the number of entries we are working with in our frames\n",
    "for key, frame in frames_dict.items():\n",
    "    print(f\"{key}\\t{len(frame)}\")"
   ]
  },
  {
   "cell_type": "code",
   "execution_count": 29,
   "id": "c8b6973f-16be-4d0e-a9a2-543078294b03",
   "metadata": {},
   "outputs": [
    {
     "name": "stdout",
     "output_type": "stream",
     "text": [
      "Index(['Respondent', 'MainBranch', 'Hobbyist', 'OpenSourcer', 'OpenSource',\n",
      "       'Employment', 'Country', 'Student', 'EdLevel', 'UndergradMajor',\n",
      "       'EduOther', 'OrgSize', 'DevType', 'YearsCode', 'Age1stCode',\n",
      "       'YearsCodePro', 'CareerSat', 'JobSat', 'MgrIdiot', 'MgrMoney',\n",
      "       'MgrWant', 'JobSeek', 'LastHireDate', 'LastInt', 'FizzBuzz',\n",
      "       'JobFactors', 'ResumeUpdate', 'CurrencySymbol', 'CurrencyDesc',\n",
      "       'CompTotal', 'CompFreq', 'ConvertedComp', 'WorkWeekHrs', 'WorkPlan',\n",
      "       'WorkChallenge', 'WorkRemote', 'WorkLoc', 'ImpSyn', 'CodeRev',\n",
      "       'CodeRevHrs', 'UnitTests', 'PurchaseHow', 'PurchaseWhat',\n",
      "       'LanguageWorkedWith', 'LanguageDesireNextYear', 'DatabaseWorkedWith',\n",
      "       'DatabaseDesireNextYear', 'PlatformWorkedWith',\n",
      "       'PlatformDesireNextYear', 'WebFrameWorkedWith',\n",
      "       'WebFrameDesireNextYear', 'MiscTechWorkedWith',\n",
      "       'MiscTechDesireNextYear', 'DevEnviron', 'OpSys', 'Containers',\n",
      "       'BlockchainOrg', 'BlockchainIs', 'BetterLife', 'ITperson', 'OffOn',\n",
      "       'SocialMedia', 'Extraversion', 'ScreenName', 'SOVisit1st',\n",
      "       'SOVisitFreq', 'SOVisitTo', 'SOFindAnswer', 'SOTimeSaved',\n",
      "       'SOHowMuchTime', 'SOAccount', 'SOPartFreq', 'SOJobs', 'EntTeams',\n",
      "       'SOComm', 'WelcomeChange', 'SONewContent', 'Age', 'Gender', 'Trans',\n",
      "       'Sexuality', 'Ethnicity', 'Dependents', 'SurveyLength', 'SurveyEase',\n",
      "       'Year'],\n",
      "      dtype='object')\n"
     ]
    }
   ],
   "source": [
    "print(frames_dict[\"df_data_2019\"].columns)"
   ]
  },
  {
   "cell_type": "code",
   "execution_count": 30,
   "id": "89e54b52-86b0-4468-a526-33b7dabc5db0",
   "metadata": {},
   "outputs": [
    {
     "name": "stdout",
     "output_type": "stream",
     "text": [
      "Index(['Respondent', 'MainBranch', 'Hobbyist', 'Age', 'Age1stCode', 'CompFreq',\n",
      "       'CompTotal', 'ConvertedComp', 'Country', 'CurrencyDesc',\n",
      "       'CurrencySymbol', 'DatabaseDesireNextYear', 'DatabaseWorkedWith',\n",
      "       'DevType', 'EdLevel', 'Employment', 'Ethnicity', 'Gender', 'JobFactors',\n",
      "       'JobSat', 'JobSeek', 'LanguageDesireNextYear', 'LanguageWorkedWith',\n",
      "       'MiscTechDesireNextYear', 'MiscTechWorkedWith',\n",
      "       'NEWCollabToolsDesireNextYear', 'NEWCollabToolsWorkedWith', 'NEWDevOps',\n",
      "       'NEWDevOpsImpt', 'NEWEdImpt', 'NEWJobHunt', 'NEWJobHuntResearch',\n",
      "       'NEWLearn', 'NEWOffTopic', 'NEWOnboardGood', 'NEWOtherComms',\n",
      "       'NEWOvertime', 'NEWPurchaseResearch', 'NEWPurpleLink', 'NEWSOSites',\n",
      "       'NEWStuck', 'OpSys', 'OrgSize', 'PlatformDesireNextYear',\n",
      "       'PlatformWorkedWith', 'PurchaseWhat', 'Sexuality', 'SOAccount',\n",
      "       'SOComm', 'SOPartFreq', 'SOVisitFreq', 'SurveyEase', 'SurveyLength',\n",
      "       'Trans', 'UndergradMajor', 'WebframeDesireNextYear',\n",
      "       'WebframeWorkedWith', 'WelcomeChange', 'WorkWeekHrs', 'YearsCode',\n",
      "       'YearsCodePro', 'Year'],\n",
      "      dtype='object')\n"
     ]
    }
   ],
   "source": [
    "print(frames_dict[\"df_data_2020\"].columns)"
   ]
  },
  {
   "cell_type": "code",
   "execution_count": 31,
   "id": "5382c8f8-589e-4817-8762-56ae2368768c",
   "metadata": {},
   "outputs": [
    {
     "name": "stdout",
     "output_type": "stream",
     "text": [
      "Index(['ResponseId', 'MainBranch', 'Employment', 'Country', 'US_State',\n",
      "       'UK_Country', 'EdLevel', 'Age1stCode', 'LearnCode', 'YearsCode',\n",
      "       'YearsCodePro', 'DevType', 'OrgSize', 'Currency', 'CompTotal',\n",
      "       'CompFreq', 'LanguageHaveWorkedWith', 'LanguageWantToWorkWith',\n",
      "       'DatabaseHaveWorkedWith', 'DatabaseWantToWorkWith',\n",
      "       'PlatformHaveWorkedWith', 'PlatformWantToWorkWith',\n",
      "       'WebframeHaveWorkedWith', 'WebframeWantToWorkWith',\n",
      "       'MiscTechHaveWorkedWith', 'MiscTechWantToWorkWith',\n",
      "       'ToolsTechHaveWorkedWith', 'ToolsTechWantToWorkWith',\n",
      "       'NEWCollabToolsHaveWorkedWith', 'NEWCollabToolsWantToWorkWith', 'OpSys',\n",
      "       'NEWStuck', 'NEWSOSites', 'SOVisitFreq', 'SOAccount', 'SOPartFreq',\n",
      "       'SOComm', 'NEWOtherComms', 'Age', 'Gender', 'Trans', 'Sexuality',\n",
      "       'Ethnicity', 'Accessibility', 'MentalHealth', 'SurveyLength',\n",
      "       'SurveyEase', 'ConvertedCompYearly', 'Year'],\n",
      "      dtype='object')\n"
     ]
    }
   ],
   "source": [
    "print(frames_dict[\"df_data_2021\"].columns)"
   ]
  },
  {
   "cell_type": "code",
   "execution_count": 32,
   "id": "e954c060-4e0c-47b6-b32f-fd206ad8ab9d",
   "metadata": {},
   "outputs": [
    {
     "name": "stdout",
     "output_type": "stream",
     "text": [
      "Index(['ResponseId', 'MainBranch', 'Employment', 'RemoteWork',\n",
      "       'CodingActivities', 'EdLevel', 'LearnCode', 'LearnCodeOnline',\n",
      "       'LearnCodeCoursesCert', 'YearsCode', 'YearsCodePro', 'DevType',\n",
      "       'OrgSize', 'PurchaseInfluence', 'BuyNewTool', 'Country', 'Currency',\n",
      "       'CompTotal', 'CompFreq', 'LanguageHaveWorkedWith',\n",
      "       'LanguageWantToWorkWith', 'DatabaseHaveWorkedWith',\n",
      "       'DatabaseWantToWorkWith', 'PlatformHaveWorkedWith',\n",
      "       'PlatformWantToWorkWith', 'WebframeHaveWorkedWith',\n",
      "       'WebframeWantToWorkWith', 'MiscTechHaveWorkedWith',\n",
      "       'MiscTechWantToWorkWith', 'ToolsTechHaveWorkedWith',\n",
      "       'ToolsTechWantToWorkWith', 'NEWCollabToolsHaveWorkedWith',\n",
      "       'NEWCollabToolsWantToWorkWith', 'OpSysProfessional use',\n",
      "       'OpSysPersonal use', 'VersionControlSystem', 'VCInteraction',\n",
      "       'VCHostingPersonal use', 'VCHostingProfessional use',\n",
      "       'OfficeStackAsyncHaveWorkedWith', 'OfficeStackAsyncWantToWorkWith',\n",
      "       'OfficeStackSyncHaveWorkedWith', 'OfficeStackSyncWantToWorkWith',\n",
      "       'Blockchain', 'NEWSOSites', 'SOVisitFreq', 'SOAccount', 'SOPartFreq',\n",
      "       'SOComm', 'Age', 'Gender', 'Trans', 'Sexuality', 'Ethnicity',\n",
      "       'Accessibility', 'MentalHealth', 'TBranch', 'ICorPM', 'WorkExp',\n",
      "       'Knowledge_1', 'Knowledge_2', 'Knowledge_3', 'Knowledge_4',\n",
      "       'Knowledge_5', 'Knowledge_6', 'Knowledge_7', 'Frequency_1',\n",
      "       'Frequency_2', 'Frequency_3', 'TimeSearching', 'TimeAnswering',\n",
      "       'Onboarding', 'ProfessionalTech', 'TrueFalse_1', 'TrueFalse_2',\n",
      "       'TrueFalse_3', 'SurveyLength', 'SurveyEase', 'ConvertedCompYearly',\n",
      "       'Year'],\n",
      "      dtype='object')\n"
     ]
    }
   ],
   "source": [
    "print(frames_dict[\"df_data_2022\"].columns)"
   ]
  },
  {
   "cell_type": "code",
   "execution_count": 24,
   "id": "273a278b-e4c9-4ee9-8ad2-588f9757d841",
   "metadata": {},
   "outputs": [],
   "source": [
    "# do they have similar columns?\n",
    "def find_similar_col(frames: dict) -> set:\n",
    "    union = []\n",
    "    for key, frame in frames.items():\n",
    "        union.append(set(frame.columns))\n",
    "        \n",
    "    standard = union[0]\n",
    "    for cols in union[1:]:\n",
    "        standard = standard.intersection(cols)\n",
    "    return standard"
   ]
  },
  {
   "cell_type": "code",
   "execution_count": 25,
   "id": "9190d38b-305e-4a31-b939-4f9395cc4e91",
   "metadata": {},
   "outputs": [
    {
     "data": {
      "text/plain": [
       "{'Age',\n",
       " 'CompTotal',\n",
       " 'Country',\n",
       " 'DevType',\n",
       " 'EdLevel',\n",
       " 'Employment',\n",
       " 'MainBranch',\n",
       " 'OrgSize',\n",
       " 'SOAccount',\n",
       " 'SOComm',\n",
       " 'SOPartFreq',\n",
       " 'SOVisitFreq',\n",
       " 'SurveyEase',\n",
       " 'SurveyLength',\n",
       " 'Year',\n",
       " 'YearsCode',\n",
       " 'YearsCodePro'}"
      ]
     },
     "execution_count": 25,
     "metadata": {},
     "output_type": "execute_result"
    }
   ],
   "source": [
    "find_similar_col(frames_dict)"
   ]
  },
  {
   "cell_type": "code",
   "execution_count": null,
   "id": "add4430f-be36-47eb-aed9-ff0b9a619e9d",
   "metadata": {},
   "outputs": [],
   "source": []
  }
 ],
 "metadata": {
  "kernelspec": {
   "display_name": "Python 3 (ipykernel)",
   "language": "python",
   "name": "python3"
  },
  "language_info": {
   "codemirror_mode": {
    "name": "ipython",
    "version": 3
   },
   "file_extension": ".py",
   "mimetype": "text/x-python",
   "name": "python",
   "nbconvert_exporter": "python",
   "pygments_lexer": "ipython3",
   "version": "3.11.7"
  }
 },
 "nbformat": 4,
 "nbformat_minor": 5
}
