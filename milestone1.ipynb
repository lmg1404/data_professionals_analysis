{
 "cells": [
  {
   "cell_type": "code",
   "execution_count": 1,
   "id": "f55912e4-edcc-4792-b84f-f9a39975ae61",
   "metadata": {},
   "outputs": [],
   "source": [
    "import pandas as pd\n",
    "pd.set_option('display.max_columns', 500)\n",
    "import os"
   ]
  },
  {
   "cell_type": "code",
   "execution_count": 2,
   "id": "059736ef-2164-4596-98e8-f365110949d1",
   "metadata": {},
   "outputs": [
    {
     "data": {
      "text/plain": [
       "['survey_results_public_2019.csv',\n",
       " 'survey_results_public_2020.csv',\n",
       " 'survey_results_public_2021.csv',\n",
       " 'survey_results_public_2022.csv',\n",
       " 'survey_results_public_2023.csv']"
      ]
     },
     "execution_count": 2,
     "metadata": {},
     "output_type": "execute_result"
    }
   ],
   "source": [
    "stack_overflow_files = (os.listdir(\"data/\"))\n",
    "# not worth going from 2011-2014. No data scientists.\n",
    "# ok, so decision to do (2019 maybe) 2020-2023 for analysis\n",
    "\n",
    "# these are the common columns from 2019-2023\n",
    "common_cols = [\n",
    "    'Age',\n",
    " 'CompTotal',\n",
    " 'Country',\n",
    " 'DevType',\n",
    " 'EdLevel',\n",
    " 'Employment',\n",
    " 'MainBranch',\n",
    " 'OrgSize',\n",
    " 'SOAccount',\n",
    " 'SOComm',\n",
    " 'SOPartFreq',\n",
    " 'SOVisitFreq',\n",
    " 'SurveyEase',\n",
    " 'SurveyLength',\n",
    " 'Year',\n",
    " 'YearsCode',\n",
    " 'YearsCodePro'\n",
    "]\n",
    "\n",
    "# salary cols to show salary trends\n",
    "salary_cols = [\n",
    "    'LanguageWorkedWith', \n",
    "]\n",
    "\n",
    "# show skill trends between the years\n",
    "skills_cols = [\n",
    "    \n",
    "]\n",
    "\n",
    "stack_overflow_files"
   ]
  },
  {
   "cell_type": "code",
   "execution_count": 3,
   "id": "2bc78690-1b3b-440f-8281-2ebc4fe0ff9f",
   "metadata": {},
   "outputs": [],
   "source": [
    "# # this is all testing for the below function\n",
    "# df_2023 = pd.read_csv(f\"data/{stack_overflow_files[-1]}\", encoding='ISO-8859-1')\n",
    "# # df_2023.columns\n",
    "# df_2023.dropna(inplace=True, subset=[\"DevType\", \"ConvertedCompYearly\"])\n",
    "# df_data_2023 = df_2023[df_2023[\"DevType\"].str.contains(\"data\", case=False)]\n",
    "\n",
    "# df_2022 = pd.read_csv(f\"data/{stack_overflow_files[-2]}\", encoding='ISO-8859-1')\n",
    "# # df_2022.columns\n",
    "# df_2022.dropna(inplace=True, subset=[\"DevType\", \"ConvertedCompYearly\"])\n",
    "# df_data_2022 = df_2022[df_2022[\"DevType\"].str.contains(\"data\", case=False)]\n",
    "\n",
    "# df_2021 = pd.read_csv(f\"data/{stack_overflow_files[-3]}\", encoding='ISO-8859-1')\n",
    "# # df_2021.columns\n",
    "# df_2021.dropna(inplace=True, subset=[\"DevType\", \"ConvertedCompYearly\"])\n",
    "# # df_2021[\"DevType\"].value_counts()\n",
    "# df_data_2021 = df_2021[df_2021[\"DevType\"].str.contains(\"data\", case=False)]\n",
    "\n",
    "# df_2020 = pd.read_csv(f\"data/{stack_overflow_files[-4]}\", encoding='ISO-8859-1')\n",
    "# df_2020.dropna(inplace=True, subset=[\"DevType\", \"ConvertedComp\"])\n",
    "# # df_2020[\"DevType\"].value_counts()\n",
    "# df_data_2020 = df_2020[df_2020[\"DevType\"].str.contains(\"data\", case=False)]\n",
    "\n",
    "# df_2019 = pd.read_csv(f\"data/{stack_overflow_files[-5]}\", encoding='ISO-8859-1')\n",
    "# # df_2019.columns\n",
    "# df_2019.dropna(inplace=True, subset=[\"DevType\", \"ConvertedComp\"])\n",
    "# # df_2019[\"DevType\"].value_counts()\n",
    "# df_data_2019 = df_2019[df_2019[\"DevType\"].str.contains(\"data\", case=False)]"
   ]
  },
  {
   "cell_type": "code",
   "execution_count": 81,
   "id": "10e6e980-8b30-4feb-872e-64cceaa62a75",
   "metadata": {},
   "outputs": [],
   "source": [
    "def read_stackoverflow_csvs() -> dict:\n",
    "    \"\"\"\n",
    "    Reads CSVs and gets the numbe of data professionals. Any empty values are dropped from job title and \n",
    "    salary so we will always have data. Other columns may have nans.\n",
    "    Data Manipulation:\n",
    "    - dropping nans from salary and devtype combined\n",
    "    - Changing the salary column to ConvertedCompYearly so we can merge all data frames comes time\n",
    "    - Converting specific columns that mean the same thing per year into a singular name\n",
    "    \"\"\"\n",
    "    frames = {}\n",
    "    stack_o_files = os.listdir(\"data/\")\n",
    "    for file in stack_o_files:\n",
    "        year = file[-8:-4]\n",
    "        df = pd.read_csv(f\"data/{file}\", encoding='ISO-8859-1')\n",
    "\n",
    "        # standardize compensation columns\n",
    "        if 'ConvertedComp' in df.columns:\n",
    "            df = df.rename(columns={'ConvertedComp': 'ConvertedCompYearly'})\n",
    "\n",
    "        # standardize some columns\n",
    "        standard = [\"Language\", \"Database\", \"Platform\", \"WebFrame\", \"MiscTech\"]\n",
    "        for stan in standard:\n",
    "            if f\"{stan}WorkedWith\" in df.columns:\n",
    "                df = df.rename(columns={f'{stan}WorkedWith': f'{stan}HaveWorkedWith', f'{stan}DesireNextYear':f'{stan}WantToWorkWith'})\n",
    "\n",
    "        # long, bad version of the above\n",
    "        # if \"LanguageWorkedWith\" in df.columns:\n",
    "        #     df = df.rename(columns={'LanguageWorkedWith': 'LanguageHaveWorkedWith', 'LanguageDesireNextYear':'LanguageWantToWorkWith'})\n",
    "\n",
    "        # if \"DatabaseWorkedWith\" in df.columns:\n",
    "        #     df = df.rename(columns={'DatabaseWorkedWith': 'DatabaseHaveWorkedWith', 'DatabaseDesireNextYear':'DatabaseWantToWorkWith'})\n",
    "\n",
    "        # if \"PlatformWorkedWith\" in df.columns:\n",
    "        #     df = df.rename(columns={'PlatformWorkedWith': 'PlatformHaveWorkedWith', 'PlatformDesireNextYear':'PlatformWantToWorkWith'})\n",
    "\n",
    "        # if \"WebFrameWorkedWith\" in df.columns:\n",
    "        #     df = df.rename(columns={'WebFrameWorkedWith': 'WebFrameHaveWorkedWith', 'WebFrameDesireNextYear':'WebFrameWantToWorkWith'})\n",
    "\n",
    "        # if \"MiscTechWorkedWith\" in df.columns:\n",
    "        #     df = df.rename(columns={'MiscTechWorkedWith': 'MiscTechHaveWorkedWith', 'MiscTechDesireNextYear':'MiscTechWantToWorkWith'})\n",
    "        \n",
    "        df = df.dropna(subset=[\"DevType\", \"ConvertedCompYearly\"])\n",
    "        df = df[df[\"DevType\"].str.contains(\"data\", case=False)]\n",
    "        df[\"Year\"] = [year] * len(df)\n",
    "        frames[f\"df_data_{year}\"] = df\n",
    "    return frames"
   ]
  },
  {
   "cell_type": "code",
   "execution_count": 82,
   "id": "a00a0790-540f-4d87-8677-9a8c762defa5",
   "metadata": {},
   "outputs": [],
   "source": [
    "frames_dict = read_stackoverflow_csvs()"
   ]
  },
  {
   "cell_type": "code",
   "execution_count": 83,
   "id": "44403370-fb7b-4679-ac9b-856cf16b4db8",
   "metadata": {},
   "outputs": [
    {
     "name": "stdout",
     "output_type": "stream",
     "text": [
      "df_data_2019\t13393\t['Ethnicity']\n",
      "df_data_2020\t8294\t['Ethnicity']\n",
      "df_data_2021\t9272\t['Ethnicity']\n",
      "df_data_2022\t6921\t['Ethnicity']\n",
      "df_data_2023\t2480\t[]\n"
     ]
    }
   ],
   "source": [
    "# this is the number of entries we are working with in our frames\n",
    "# seeing how to standardize the columns some more\n",
    "\n",
    "query = \"Eth\"\n",
    "for key, frame in frames_dict.items():\n",
    "    lang = []\n",
    "    for col in frame.columns:\n",
    "        lang.append(col) if query in col else None\n",
    "    print(f\"{key}\\t{len(frame)}\\t{lang}\")"
   ]
  },
  {
   "cell_type": "code",
   "execution_count": 84,
   "id": "c8b6973f-16be-4d0e-a9a2-543078294b03",
   "metadata": {},
   "outputs": [
    {
     "name": "stdout",
     "output_type": "stream",
     "text": [
      "Index(['Respondent', 'MainBranch', 'Hobbyist', 'OpenSourcer', 'OpenSource',\n",
      "       'Employment', 'Country', 'Student', 'EdLevel', 'UndergradMajor',\n",
      "       'EduOther', 'OrgSize', 'DevType', 'YearsCode', 'Age1stCode',\n",
      "       'YearsCodePro', 'CareerSat', 'JobSat', 'MgrIdiot', 'MgrMoney',\n",
      "       'MgrWant', 'JobSeek', 'LastHireDate', 'LastInt', 'FizzBuzz',\n",
      "       'JobFactors', 'ResumeUpdate', 'CurrencySymbol', 'CurrencyDesc',\n",
      "       'CompTotal', 'CompFreq', 'ConvertedCompYearly', 'WorkWeekHrs',\n",
      "       'WorkPlan', 'WorkChallenge', 'WorkRemote', 'WorkLoc', 'ImpSyn',\n",
      "       'CodeRev', 'CodeRevHrs', 'UnitTests', 'PurchaseHow', 'PurchaseWhat',\n",
      "       'LanguageHaveWorkedWith', 'LanguageWantToWorkWith',\n",
      "       'DatabaseHaveWorkedWith', 'DatabaseWantToWorkWith',\n",
      "       'PlatformHaveWorkedWith', 'PlatformWantToWorkWith',\n",
      "       'WebFrameHaveWorkedWith', 'WebFrameWantToWorkWith',\n",
      "       'MiscTechHaveWorkedWith', 'MiscTechWantToWorkWith', 'DevEnviron',\n",
      "       'OpSys', 'Containers', 'BlockchainOrg', 'BlockchainIs', 'BetterLife',\n",
      "       'ITperson', 'OffOn', 'SocialMedia', 'Extraversion', 'ScreenName',\n",
      "       'SOVisit1st', 'SOVisitFreq', 'SOVisitTo', 'SOFindAnswer', 'SOTimeSaved',\n",
      "       'SOHowMuchTime', 'SOAccount', 'SOPartFreq', 'SOJobs', 'EntTeams',\n",
      "       'SOComm', 'WelcomeChange', 'SONewContent', 'Age', 'Gender', 'Trans',\n",
      "       'Sexuality', 'Ethnicity', 'Dependents', 'SurveyLength', 'SurveyEase',\n",
      "       'Year'],\n",
      "      dtype='object')\n"
     ]
    }
   ],
   "source": [
    "print(frames_dict[\"df_data_2019\"].columns)"
   ]
  },
  {
   "cell_type": "code",
   "execution_count": 85,
   "id": "89e54b52-86b0-4468-a526-33b7dabc5db0",
   "metadata": {},
   "outputs": [
    {
     "name": "stdout",
     "output_type": "stream",
     "text": [
      "Index(['Respondent', 'MainBranch', 'Hobbyist', 'Age', 'Age1stCode', 'CompFreq',\n",
      "       'CompTotal', 'ConvertedCompYearly', 'Country', 'CurrencyDesc',\n",
      "       'CurrencySymbol', 'DatabaseWantToWorkWith', 'DatabaseHaveWorkedWith',\n",
      "       'DevType', 'EdLevel', 'Employment', 'Ethnicity', 'Gender', 'JobFactors',\n",
      "       'JobSat', 'JobSeek', 'LanguageWantToWorkWith', 'LanguageHaveWorkedWith',\n",
      "       'MiscTechWantToWorkWith', 'MiscTechHaveWorkedWith',\n",
      "       'NEWCollabToolsDesireNextYear', 'NEWCollabToolsWorkedWith', 'NEWDevOps',\n",
      "       'NEWDevOpsImpt', 'NEWEdImpt', 'NEWJobHunt', 'NEWJobHuntResearch',\n",
      "       'NEWLearn', 'NEWOffTopic', 'NEWOnboardGood', 'NEWOtherComms',\n",
      "       'NEWOvertime', 'NEWPurchaseResearch', 'NEWPurpleLink', 'NEWSOSites',\n",
      "       'NEWStuck', 'OpSys', 'OrgSize', 'PlatformWantToWorkWith',\n",
      "       'PlatformHaveWorkedWith', 'PurchaseWhat', 'Sexuality', 'SOAccount',\n",
      "       'SOComm', 'SOPartFreq', 'SOVisitFreq', 'SurveyEase', 'SurveyLength',\n",
      "       'Trans', 'UndergradMajor', 'WebframeDesireNextYear',\n",
      "       'WebframeWorkedWith', 'WelcomeChange', 'WorkWeekHrs', 'YearsCode',\n",
      "       'YearsCodePro', 'Year'],\n",
      "      dtype='object')\n"
     ]
    }
   ],
   "source": [
    "print(frames_dict[\"df_data_2020\"].columns)"
   ]
  },
  {
   "cell_type": "code",
   "execution_count": 86,
   "id": "5382c8f8-589e-4817-8762-56ae2368768c",
   "metadata": {},
   "outputs": [
    {
     "name": "stdout",
     "output_type": "stream",
     "text": [
      "Index(['ResponseId', 'MainBranch', 'Employment', 'Country', 'US_State',\n",
      "       'UK_Country', 'EdLevel', 'Age1stCode', 'LearnCode', 'YearsCode',\n",
      "       'YearsCodePro', 'DevType', 'OrgSize', 'Currency', 'CompTotal',\n",
      "       'CompFreq', 'LanguageHaveWorkedWith', 'LanguageWantToWorkWith',\n",
      "       'DatabaseHaveWorkedWith', 'DatabaseWantToWorkWith',\n",
      "       'PlatformHaveWorkedWith', 'PlatformWantToWorkWith',\n",
      "       'WebframeHaveWorkedWith', 'WebframeWantToWorkWith',\n",
      "       'MiscTechHaveWorkedWith', 'MiscTechWantToWorkWith',\n",
      "       'ToolsTechHaveWorkedWith', 'ToolsTechWantToWorkWith',\n",
      "       'NEWCollabToolsHaveWorkedWith', 'NEWCollabToolsWantToWorkWith', 'OpSys',\n",
      "       'NEWStuck', 'NEWSOSites', 'SOVisitFreq', 'SOAccount', 'SOPartFreq',\n",
      "       'SOComm', 'NEWOtherComms', 'Age', 'Gender', 'Trans', 'Sexuality',\n",
      "       'Ethnicity', 'Accessibility', 'MentalHealth', 'SurveyLength',\n",
      "       'SurveyEase', 'ConvertedCompYearly', 'Year'],\n",
      "      dtype='object')\n"
     ]
    }
   ],
   "source": [
    "print(frames_dict[\"df_data_2021\"].columns)"
   ]
  },
  {
   "cell_type": "code",
   "execution_count": 87,
   "id": "e954c060-4e0c-47b6-b32f-fd206ad8ab9d",
   "metadata": {},
   "outputs": [
    {
     "name": "stdout",
     "output_type": "stream",
     "text": [
      "Index(['ResponseId', 'MainBranch', 'Employment', 'RemoteWork',\n",
      "       'CodingActivities', 'EdLevel', 'LearnCode', 'LearnCodeOnline',\n",
      "       'LearnCodeCoursesCert', 'YearsCode', 'YearsCodePro', 'DevType',\n",
      "       'OrgSize', 'PurchaseInfluence', 'BuyNewTool', 'Country', 'Currency',\n",
      "       'CompTotal', 'CompFreq', 'LanguageHaveWorkedWith',\n",
      "       'LanguageWantToWorkWith', 'DatabaseHaveWorkedWith',\n",
      "       'DatabaseWantToWorkWith', 'PlatformHaveWorkedWith',\n",
      "       'PlatformWantToWorkWith', 'WebframeHaveWorkedWith',\n",
      "       'WebframeWantToWorkWith', 'MiscTechHaveWorkedWith',\n",
      "       'MiscTechWantToWorkWith', 'ToolsTechHaveWorkedWith',\n",
      "       'ToolsTechWantToWorkWith', 'NEWCollabToolsHaveWorkedWith',\n",
      "       'NEWCollabToolsWantToWorkWith', 'OpSysProfessional use',\n",
      "       'OpSysPersonal use', 'VersionControlSystem', 'VCInteraction',\n",
      "       'VCHostingPersonal use', 'VCHostingProfessional use',\n",
      "       'OfficeStackAsyncHaveWorkedWith', 'OfficeStackAsyncWantToWorkWith',\n",
      "       'OfficeStackSyncHaveWorkedWith', 'OfficeStackSyncWantToWorkWith',\n",
      "       'Blockchain', 'NEWSOSites', 'SOVisitFreq', 'SOAccount', 'SOPartFreq',\n",
      "       'SOComm', 'Age', 'Gender', 'Trans', 'Sexuality', 'Ethnicity',\n",
      "       'Accessibility', 'MentalHealth', 'TBranch', 'ICorPM', 'WorkExp',\n",
      "       'Knowledge_1', 'Knowledge_2', 'Knowledge_3', 'Knowledge_4',\n",
      "       'Knowledge_5', 'Knowledge_6', 'Knowledge_7', 'Frequency_1',\n",
      "       'Frequency_2', 'Frequency_3', 'TimeSearching', 'TimeAnswering',\n",
      "       'Onboarding', 'ProfessionalTech', 'TrueFalse_1', 'TrueFalse_2',\n",
      "       'TrueFalse_3', 'SurveyLength', 'SurveyEase', 'ConvertedCompYearly',\n",
      "       'Year'],\n",
      "      dtype='object')\n"
     ]
    }
   ],
   "source": [
    "print(frames_dict[\"df_data_2022\"].columns)"
   ]
  },
  {
   "cell_type": "code",
   "execution_count": 88,
   "id": "273a278b-e4c9-4ee9-8ad2-588f9757d841",
   "metadata": {},
   "outputs": [],
   "source": [
    "# do they have similar columns?\n",
    "def find_similar_col(frames):\n",
    "    union = []\n",
    "    for key, frame in frames.items():\n",
    "        union.append(set(frame.columns))\n",
    "        \n",
    "    standard = union[0]\n",
    "    for cols in union[1:]:\n",
    "        standard = standard.intersection(cols)\n",
    "    return standard"
   ]
  },
  {
   "cell_type": "code",
   "execution_count": 89,
   "id": "9190d38b-305e-4a31-b939-4f9395cc4e91",
   "metadata": {},
   "outputs": [
    {
     "data": {
      "text/plain": [
       "{'Age',\n",
       " 'CompTotal',\n",
       " 'ConvertedCompYearly',\n",
       " 'Country',\n",
       " 'DatabaseHaveWorkedWith',\n",
       " 'DatabaseWantToWorkWith',\n",
       " 'DevType',\n",
       " 'EdLevel',\n",
       " 'Employment',\n",
       " 'LanguageHaveWorkedWith',\n",
       " 'LanguageWantToWorkWith',\n",
       " 'MainBranch',\n",
       " 'MiscTechHaveWorkedWith',\n",
       " 'MiscTechWantToWorkWith',\n",
       " 'OrgSize',\n",
       " 'PlatformHaveWorkedWith',\n",
       " 'PlatformWantToWorkWith',\n",
       " 'SOAccount',\n",
       " 'SOComm',\n",
       " 'SOPartFreq',\n",
       " 'SOVisitFreq',\n",
       " 'SurveyEase',\n",
       " 'SurveyLength',\n",
       " 'Year',\n",
       " 'YearsCode',\n",
       " 'YearsCodePro'}"
      ]
     },
     "execution_count": 89,
     "metadata": {},
     "output_type": "execute_result"
    }
   ],
   "source": [
    "find_similar_col(frames_dict)"
   ]
  },
  {
   "cell_type": "code",
   "execution_count": 90,
   "id": "add4430f-be36-47eb-aed9-ff0b9a619e9d",
   "metadata": {},
   "outputs": [
    {
     "name": "stdout",
     "output_type": "stream",
     "text": [
      "df_data_2019: 83\n",
      "    max: United States\n",
      "    min: Andorra\n",
      "df_data_2020: 69\n",
      "    max: United States\n",
      "    min: Andorra\n",
      "df_data_2021: 70\n",
      "    max: United States of America\n",
      "    min: Andorra\n",
      "df_data_2022: 63\n",
      "    max: United States of America\n",
      "    min: Algeria\n",
      "df_data_2023: 36\n",
      "    max: United States of America\n",
      "    min: Albania\n"
     ]
    }
   ],
   "source": [
    "# play around with the number and see if this is the spread that we want\n",
    "for key, frame in frames_dict.items():\n",
    "    grouped = (frame.groupby(\"Country\").count())\n",
    "    length = len(grouped[grouped[\"MainBranch\"] > 10])\n",
    "    print(f\"\"\"{key}: {length}\n",
    "    max: {grouped['MainBranch'].idxmax()}\n",
    "    min: {grouped['MainBranch'].idxmin()}\"\"\")"
   ]
  },
  {
   "cell_type": "code",
   "execution_count": null,
   "id": "2575d8ed-d7c2-4f2d-bce2-9782aa7b1d67",
   "metadata": {},
   "outputs": [],
   "source": []
  }
 ],
 "metadata": {
  "kernelspec": {
   "display_name": "Python 3 (ipykernel)",
   "language": "python",
   "name": "python3"
  },
  "language_info": {
   "codemirror_mode": {
    "name": "ipython",
    "version": 3
   },
   "file_extension": ".py",
   "mimetype": "text/x-python",
   "name": "python",
   "nbconvert_exporter": "python",
   "pygments_lexer": "ipython3",
   "version": "3.11.7"
  }
 },
 "nbformat": 4,
 "nbformat_minor": 5
}
